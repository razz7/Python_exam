{
 "cells": [
  {
   "cell_type": "code",
   "execution_count": null,
   "metadata": {},
   "outputs": [],
   "source": [
    "import pandas as pd\n",
    "from collections import Counter\n",
    "from wordcloud import WordCloud\n",
    "import matplotlib.pyplot as plt\n",
    "from sklearn.feature_extraction import text\n",
    "from textblob import TextBlob\n",
    "import torch\n",
    "from transformers import AutoTokenizer, AutoModelForSequenceClassification"
   ]
  },
  {
   "cell_type": "markdown",
   "metadata": {},
   "source": [
    "## Creating Word Clouds for speeches from 5 significant years\n",
    "### 1946: End of WW2, 1976: End of Vietnam war, 1990: End of the cold war, 2002: Following 9/11, 2009: Global fin.crisis"
   ]
  },
  {
   "cell_type": "code",
   "execution_count": null,
   "metadata": {},
   "outputs": [],
   "source": [
    "data = pd.read_pickle('pickled_data/data_first_clean.pkl')\n",
    "data.drop(['President', 'Party','speech', 'first_clean_tokenized'], axis=1, inplace = True)\n",
    "data = data.rename({'first_clean' : 'speech'}, axis=1)\n",
    "#Significant years: 1946, end of ww2, 1976 end of Vietnam war, 1990 end of cold war, 2002 9/11, 2009 glob fin crisis\n",
    "years = [1946, 1976, 1990, 2002, 2009]\n",
    "\n",
    "data = data.loc[data['year'].isin(years)]\n",
    "data = data.reset_index(drop=True)\n",
    "\n",
    "data['year'] = data.year.astype('str')\n",
    "data.head()"
   ]
  },
  {
   "cell_type": "code",
   "execution_count": null,
   "metadata": {},
   "outputs": [],
   "source": [
    "speech_dict = dict(zip(data.year, data.speech))"
   ]
  },
  {
   "cell_type": "code",
   "execution_count": null,
   "metadata": {},
   "outputs": [],
   "source": [
    "stop_words = text.ENGLISH_STOP_WORDS\n",
    "\n",
    "wc = WordCloud(stopwords=stop_words, background_color=\"black\", colormap=\"Dark2\",\n",
    "               max_font_size=150, random_state=42)\n",
    "\n",
    "plt.rcParams['figure.figsize'] = [10, 6]\n",
    "\n",
    "\n",
    "for key, value in speech_dict.items():\n",
    "    wc.generate(value)\n",
    "    \n",
    "    plt.imshow(wc, interpolation=\"bilinear\")\n",
    "    plt.axis(\"off\")\n",
    "    plt.title(key)    \n",
    "    plt.show()"
   ]
  },
  {
   "cell_type": "markdown",
   "metadata": {},
   "source": [
    "### Sentiment analysis of the 5 years, using TextBlob"
   ]
  },
  {
   "cell_type": "code",
   "execution_count": null,
   "metadata": {},
   "outputs": [],
   "source": [
    "def sentiment(text):\n",
    "    try:\n",
    "        return TextBlob(text).sentiment\n",
    "    except:\n",
    "        return None"
   ]
  },
  {
   "cell_type": "code",
   "execution_count": null,
   "metadata": {},
   "outputs": [],
   "source": [
    "data.head()"
   ]
  },
  {
   "cell_type": "code",
   "execution_count": null,
   "metadata": {},
   "outputs": [],
   "source": [
    "data['polarity'] = data.speech.apply(sentiment).apply(lambda x: x[0])\n",
    "data['subjectivity'] = data['speech'].apply(sentiment).apply(lambda x: x[1])"
   ]
  },
  {
   "cell_type": "code",
   "execution_count": null,
   "metadata": {},
   "outputs": [],
   "source": [
    "data"
   ]
  },
  {
   "cell_type": "markdown",
   "metadata": {},
   "source": [
    "## As an experiment, we try the prelearned model from: https://huggingface.co/MoritzLaurer/policy-distilbert-7d on the same 5 years"
   ]
  },
  {
   "cell_type": "code",
   "execution_count": null,
   "metadata": {},
   "outputs": [],
   "source": [
    "def ml_policy(text):\n",
    "    model_name = \"MoritzLaurer/policy-distilbert-7d\"\n",
    "    tokenizer = AutoTokenizer.from_pretrained(model_name)\n",
    "    model = AutoModelForSequenceClassification.from_pretrained(model_name)\n",
    "    input = tokenizer(text, truncation=True, return_tensors=\"pt\")\n",
    "\n",
    "    output = model(input[\"input_ids\"])\n",
    "    prediction = torch.softmax(output[\"logits\"][0], -1).tolist()\n",
    "\n",
    "    label_names = [\"external relations\", \"freedom and democracy\",\n",
    "               \"political system\", \"economy\", \"welfare and quality of life\",\n",
    "               \"fabric of society\", \"social groups\"]\n",
    "    prediction = {name: round(float(pred) * 100, 1) for pred, name in\n",
    "              zip(prediction, label_names)}\n",
    "    return prediction"
   ]
  },
  {
   "cell_type": "code",
   "execution_count": null,
   "metadata": {},
   "outputs": [],
   "source": [
    "for x, y in speech_dict.items():\n",
    "    print('Year: ', x)\n",
    "    print(ml_policy(y))"
   ]
  },
  {
   "cell_type": "code",
   "execution_count": null,
   "metadata": {},
   "outputs": [],
   "source": [
    "first_speech = list(range(1901, 2022, 4))\n"
   ]
  },
  {
   "cell_type": "code",
   "execution_count": null,
   "metadata": {},
   "outputs": [],
   "source": [
    "data2 = pd.read_pickle('pickled_data/data_first_clean.pkl')\n",
    "#list of years where 1st year in office years\n",
    "first_speech = list(range(1901, 2022, 4))\n",
    "data2 = data2.loc[data2['year'].isin(first_speech)]\n",
    "data2 = data2.reset_index(drop=True)\n",
    "data2.head()"
   ]
  },
  {
   "cell_type": "code",
   "execution_count": null,
   "metadata": {},
   "outputs": [],
   "source": [
    "def sentiment(text):\n",
    "    try:\n",
    "        return TextBlob(text).sentiment\n",
    "    except:\n",
    "        return None"
   ]
  },
  {
   "cell_type": "code",
   "execution_count": null,
   "metadata": {},
   "outputs": [],
   "source": [
    "data2['polarity'] = data2['first_clean'].apply(sentiment).apply(lambda x: x[0])\n",
    "data2['subjectivity'] = data2['first_clean'].apply(sentiment).apply(lambda x: x[1])"
   ]
  },
  {
   "cell_type": "code",
   "execution_count": null,
   "metadata": {},
   "outputs": [],
   "source": [
    "plt.rcParams['figure.figsize'] = [10, 8]\n",
    "\n",
    "data2['year'] = data2['year'].apply(str)\n",
    "\n",
    "for index, president in enumerate(data2.index):\n",
    "    x = data2.polarity.loc[president]\n",
    "    y = data2.subjectivity.loc[president]\n",
    "    plt.scatter(x, y, color='blue')\n",
    "    plt.text(x+.001, y+.001, data2['year'][index], fontsize=10)\n",
    "    #plt.xlim(.09, .185)\n",
    "    \n",
    "plt.title('Sentiment Analysis', fontsize=20)\n",
    "plt.xlabel('<-- Negative -------- Positive -->', fontsize=15)\n",
    "plt.ylabel('<-- Facts -------- Opinions -->', fontsize=15)\n",
    "\n",
    "plt.show()"
   ]
  },
  {
   "cell_type": "code",
   "execution_count": null,
   "metadata": {},
   "outputs": [],
   "source": [
    "#list of year-on-year % change in US GDP\n",
    "df_csv = pd.read_csv('data/gdp.csv')\n",
    "df_csv.rename(columns={'date': 'year', 'change-chained' : 'GDP'}, inplace=True)\n",
    "\n",
    "gdp = df_csv.iloc[:, [0, 4]].copy()\n",
    "\n",
    "gdp.sort_values(by=['year'], inplace=True)\n",
    "print(gdp.head(10))"
   ]
  },
  {
   "cell_type": "code",
   "execution_count": null,
   "metadata": {},
   "outputs": [],
   "source": []
  }
 ],
 "metadata": {
  "kernelspec": {
   "display_name": "Python 3",
   "language": "python",
   "name": "python3"
  },
  "language_info": {
   "codemirror_mode": {
    "name": "ipython",
    "version": 3
   },
   "file_extension": ".py",
   "mimetype": "text/x-python",
   "name": "python",
   "nbconvert_exporter": "python",
   "pygments_lexer": "ipython3",
   "version": "3.7.6"
  }
 },
 "nbformat": 4,
 "nbformat_minor": 4
}
