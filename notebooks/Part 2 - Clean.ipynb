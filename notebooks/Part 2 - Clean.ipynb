{
 "cells": [
  {
   "cell_type": "code",
   "execution_count": null,
   "metadata": {},
   "outputs": [],
   "source": [
    "import pandas as pd\n",
    "import os\n",
    "from nltk.tokenize import word_tokenize\n",
    "from nltk.corpus import stopwords\n",
    "from modules.cleaners import clean_text, simple_clean\n",
    "import string\n",
    "pd.options.mode.chained_assignment = None\n",
    "import nltk\n",
    "from nltk.stem import WordNetLemmatizer\n"
   ]
  },
  {
   "cell_type": "code",
   "execution_count": null,
   "metadata": {},
   "outputs": [],
   "source": [
    "#create dataframe with year, president and party columns\n",
    "df = pd.read_csv('data/US presidents.csv', delimiter=';')\n",
    "\n",
    "#rename column for easier reading\n",
    "df.rename(columns={'Years (after inauguration)': 'year'}, inplace=True)"
   ]
  },
  {
   "cell_type": "code",
   "execution_count": null,
   "metadata": {},
   "outputs": [],
   "source": [
    "#Make a series with the filenames:\n",
    "path = 'speeches/'\n",
    "files = pd.Series(sorted(os.listdir(path))).map(lambda x: x[:-4])\n",
    "files"
   ]
  },
  {
   "cell_type": "code",
   "execution_count": null,
   "metadata": {},
   "outputs": [],
   "source": [
    "#method that returns dict with key: year (int) value: speech (str)\n",
    "def get_text_dict():\n",
    "    txtdict = {}\n",
    "\n",
    "    for file in files:\n",
    "        file_ = path + file + '.txt'\n",
    "        f = open(file_, encoding='utf8', errors='ignore')\n",
    "        filetxt = f.read()\n",
    "        txtdict[int(file)] = filetxt\n",
    "\n",
    "    return txtdict"
   ]
  },
  {
   "cell_type": "code",
   "execution_count": null,
   "metadata": {},
   "outputs": [],
   "source": [
    "text = get_text_dict()"
   ]
  },
  {
   "cell_type": "code",
   "execution_count": null,
   "metadata": {},
   "outputs": [],
   "source": [
    "#Add series to df with speeches from dict values\n",
    "speech_list = list(text.values())\n",
    "sp = pd.Series(speech_list)\n",
    "df['speech'] = sp"
   ]
  },
  {
   "cell_type": "markdown",
   "metadata": {},
   "source": [
    "# Cleaning round 1"
   ]
  },
  {
   "cell_type": "code",
   "execution_count": null,
   "metadata": {},
   "outputs": [],
   "source": [
    "first_clean = lambda x: simple_clean(x)\n",
    "\n",
    "df['first_clean'] = df.speech.apply(first_clean)"
   ]
  },
  {
   "cell_type": "code",
   "execution_count": null,
   "metadata": {},
   "outputs": [],
   "source": [
    "first_clean_tokenized = lambda x: clean_text(x)\n",
    "\n",
    "df['first_clean_tokenized'] = df.speech.apply(first_clean_tokenized)"
   ]
  },
  {
   "cell_type": "code",
   "execution_count": null,
   "metadata": {},
   "outputs": [],
   "source": [
    "#saving dataframe\n",
    "df.to_pickle('pickled_data/data_first_clean.pkl')"
   ]
  },
  {
   "cell_type": "markdown",
   "metadata": {},
   "source": [
    "# Cleaning round 2"
   ]
  },
  {
   "cell_type": "code",
   "execution_count": null,
   "metadata": {},
   "outputs": [],
   "source": [
    "#Creates a copy of dataframe for round 2:\n",
    "df2 = df"
   ]
  },
  {
   "cell_type": "code",
   "execution_count": null,
   "metadata": {},
   "outputs": [],
   "source": [
    "def lemmatize(list):\n",
    "    wordnet_lemmatizer = WordNetLemmatizer()\n",
    "    wordlist = []\n",
    "    for word in list:\n",
    "        wordlist.append(wordnet_lemmatizer.lemmatize(word))\n",
    "    return wordlist"
   ]
  },
  {
   "cell_type": "code",
   "execution_count": null,
   "metadata": {},
   "outputs": [],
   "source": [
    "df2['second_clean_lemmatized'] = df['first_clean_tokenized'].apply(lemmatize)\n",
    "df2 = df2.drop(['first_clean', 'first_clean_tokenized'], axis=1)"
   ]
  },
  {
   "cell_type": "code",
   "execution_count": null,
   "metadata": {},
   "outputs": [],
   "source": [
    "#saving dataframe\n",
    "df2.to_pickle('pickled_data/data_second_clean.pkl')"
   ]
  },
  {
   "cell_type": "code",
   "execution_count": null,
   "metadata": {},
   "outputs": [],
   "source": []
  }
 ],
 "metadata": {
  "kernelspec": {
   "display_name": "Python 3",
   "language": "python",
   "name": "python3"
  },
  "language_info": {
   "codemirror_mode": {
    "name": "ipython",
    "version": 3
   },
   "file_extension": ".py",
   "mimetype": "text/x-python",
   "name": "python",
   "nbconvert_exporter": "python",
   "pygments_lexer": "ipython3",
   "version": "3.7.6"
  }
 },
 "nbformat": 4,
 "nbformat_minor": 4
}
