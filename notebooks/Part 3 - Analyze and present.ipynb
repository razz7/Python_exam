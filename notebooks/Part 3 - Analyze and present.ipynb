{
 "cells": [
  {
   "cell_type": "code",
   "execution_count": 20,
   "metadata": {},
   "outputs": [],
   "source": [
    "import pandas as pd\n",
    "import numpy as np\n",
    "from nltk import sent_tokenize,word_tokenize\n",
    "from textblob import TextBlob\n",
    "from nltk import FreqDist\n",
    "import itertools\n",
    "from nltk.sentiment import SentimentIntensityAnalyzer\n",
    "import matplotlib.pyplot as plt\n",
    "import nltk\n",
    "#nltk.download('vader_lexicon')"
   ]
  },
  {
   "cell_type": "markdown",
   "metadata": {},
   "source": [
    "## Loads pickled data:"
   ]
  },
  {
   "cell_type": "code",
   "execution_count": 21,
   "metadata": {},
   "outputs": [],
   "source": [
    "df_first_clean = pd.read_pickle('pickled_data/data_first_clean.pkl')\n",
    "df_second_clean = pd.read_pickle('pickled_data/data_second_clean.pkl')"
   ]
  },
  {
   "cell_type": "markdown",
   "metadata": {},
   "source": [
    "## Sentiment analysis "
   ]
  },
  {
   "cell_type": "code",
   "execution_count": 22,
   "metadata": {},
   "outputs": [
    {
     "data": {
      "text/html": [
       "<div>\n",
       "<style scoped>\n",
       "    .dataframe tbody tr th:only-of-type {\n",
       "        vertical-align: middle;\n",
       "    }\n",
       "\n",
       "    .dataframe tbody tr th {\n",
       "        vertical-align: top;\n",
       "    }\n",
       "\n",
       "    .dataframe thead th {\n",
       "        text-align: right;\n",
       "    }\n",
       "</style>\n",
       "<table border=\"1\" class=\"dataframe\">\n",
       "  <thead>\n",
       "    <tr style=\"text-align: right;\">\n",
       "      <th></th>\n",
       "      <th>year</th>\n",
       "      <th>President</th>\n",
       "      <th>Party</th>\n",
       "      <th>speech</th>\n",
       "      <th>first_clean</th>\n",
       "      <th>first_clean_tokenized</th>\n",
       "      <th>Polarity</th>\n",
       "      <th>Subjectivity</th>\n",
       "    </tr>\n",
       "  </thead>\n",
       "  <tbody>\n",
       "    <tr>\n",
       "      <th>0</th>\n",
       "      <td>1900</td>\n",
       "      <td>William McKinley</td>\n",
       "      <td>Republican</td>\n",
       "      <td>To the Senate and House of Representatives: \\n...</td>\n",
       "      <td>to the senate and house of representatives: at...</td>\n",
       "      <td>[senate, house, representatives, outgoing, old...</td>\n",
       "      <td>0.115256</td>\n",
       "      <td>0.404176</td>\n",
       "    </tr>\n",
       "    <tr>\n",
       "      <th>1</th>\n",
       "      <td>1901</td>\n",
       "      <td>Theodore Roosevelt</td>\n",
       "      <td>Republican</td>\n",
       "      <td>To the Senate and House of Representatives: \\n...</td>\n",
       "      <td>to the senate and house of representatives: th...</td>\n",
       "      <td>[senate, house, representatives, congress, ass...</td>\n",
       "      <td>0.139217</td>\n",
       "      <td>0.471688</td>\n",
       "    </tr>\n",
       "    <tr>\n",
       "      <th>2</th>\n",
       "      <td>1902</td>\n",
       "      <td>Theodore Roosevelt</td>\n",
       "      <td>Republican</td>\n",
       "      <td>To the Senate and House of Representatives: \\n...</td>\n",
       "      <td>to the senate and house of representatives: we...</td>\n",
       "      <td>[senate, house, representatives, still, contin...</td>\n",
       "      <td>0.120273</td>\n",
       "      <td>0.497860</td>\n",
       "    </tr>\n",
       "    <tr>\n",
       "      <th>3</th>\n",
       "      <td>1903</td>\n",
       "      <td>Theodore Roosevelt</td>\n",
       "      <td>Republican</td>\n",
       "      <td>To the Senate and House of Representatives: \\n...</td>\n",
       "      <td>to the senate and house of representatives: th...</td>\n",
       "      <td>[senate, house, representatives, country, cong...</td>\n",
       "      <td>0.119628</td>\n",
       "      <td>0.456306</td>\n",
       "    </tr>\n",
       "    <tr>\n",
       "      <th>4</th>\n",
       "      <td>1904</td>\n",
       "      <td>Theodore Roosevelt</td>\n",
       "      <td>Republican</td>\n",
       "      <td>To the Senate and House of Representatives: \\n...</td>\n",
       "      <td>to the senate and house of representatives: th...</td>\n",
       "      <td>[senate, house, representatives, nation, conti...</td>\n",
       "      <td>0.137607</td>\n",
       "      <td>0.500679</td>\n",
       "    </tr>\n",
       "    <tr>\n",
       "      <th>...</th>\n",
       "      <td>...</td>\n",
       "      <td>...</td>\n",
       "      <td>...</td>\n",
       "      <td>...</td>\n",
       "      <td>...</td>\n",
       "      <td>...</td>\n",
       "      <td>...</td>\n",
       "      <td>...</td>\n",
       "    </tr>\n",
       "    <tr>\n",
       "      <th>116</th>\n",
       "      <td>2017</td>\n",
       "      <td>Donald Trump</td>\n",
       "      <td>Republican</td>\n",
       "      <td>Mr. Speaker, Mr. Vice President, Members of Co...</td>\n",
       "      <td>mr. speaker, mr. vice president, members of co...</td>\n",
       "      <td>[mr, speaker, mr, vice, president, members, co...</td>\n",
       "      <td>0.146113</td>\n",
       "      <td>0.450257</td>\n",
       "    </tr>\n",
       "    <tr>\n",
       "      <th>117</th>\n",
       "      <td>2018</td>\n",
       "      <td>Donald Trump</td>\n",
       "      <td>Republican</td>\n",
       "      <td>Mr. Speaker, Mr. Vice President, Members of Co...</td>\n",
       "      <td>mr. speaker, mr. vice president, members of co...</td>\n",
       "      <td>[mr, speaker, mr, vice, president, members, co...</td>\n",
       "      <td>0.113485</td>\n",
       "      <td>0.485158</td>\n",
       "    </tr>\n",
       "    <tr>\n",
       "      <th>118</th>\n",
       "      <td>2019</td>\n",
       "      <td>Donald Trump</td>\n",
       "      <td>Republican</td>\n",
       "      <td>Madam Speaker, Mr. Vice President, Members of ...</td>\n",
       "      <td>madam speaker, mr. vice president, members of ...</td>\n",
       "      <td>[madam, speaker, mr, vice, president, members,...</td>\n",
       "      <td>0.114962</td>\n",
       "      <td>0.449762</td>\n",
       "    </tr>\n",
       "    <tr>\n",
       "      <th>119</th>\n",
       "      <td>2020</td>\n",
       "      <td>Donald Trump</td>\n",
       "      <td>Republican</td>\n",
       "      <td>Madam Speaker, Mr. Vice President, Members of ...</td>\n",
       "      <td>madam speaker, mr. vice president, members of ...</td>\n",
       "      <td>[madam, speaker, mr, vice, president, members,...</td>\n",
       "      <td>0.137910</td>\n",
       "      <td>0.452048</td>\n",
       "    </tr>\n",
       "    <tr>\n",
       "      <th>120</th>\n",
       "      <td>2021</td>\n",
       "      <td>Joe Biden</td>\n",
       "      <td>Democrat</td>\n",
       "      <td>9:06 P.M. EDT\\nTHE PRESIDENT:  Thank you.  (Ap...</td>\n",
       "      <td>9:06 p.m. edtthe president:  thank you.  (appl...</td>\n",
       "      <td>[pm, edt, president, thank, applause, thank, t...</td>\n",
       "      <td>0.123282</td>\n",
       "      <td>0.386723</td>\n",
       "    </tr>\n",
       "  </tbody>\n",
       "</table>\n",
       "<p>121 rows × 8 columns</p>\n",
       "</div>"
      ],
      "text/plain": [
       "     year           President       Party  \\\n",
       "0    1900    William McKinley  Republican   \n",
       "1    1901  Theodore Roosevelt  Republican   \n",
       "2    1902  Theodore Roosevelt  Republican   \n",
       "3    1903  Theodore Roosevelt  Republican   \n",
       "4    1904  Theodore Roosevelt  Republican   \n",
       "..    ...                 ...         ...   \n",
       "116  2017        Donald Trump  Republican   \n",
       "117  2018        Donald Trump  Republican   \n",
       "118  2019        Donald Trump  Republican   \n",
       "119  2020        Donald Trump  Republican   \n",
       "120  2021           Joe Biden    Democrat   \n",
       "\n",
       "                                                speech  \\\n",
       "0    To the Senate and House of Representatives: \\n...   \n",
       "1    To the Senate and House of Representatives: \\n...   \n",
       "2    To the Senate and House of Representatives: \\n...   \n",
       "3    To the Senate and House of Representatives: \\n...   \n",
       "4    To the Senate and House of Representatives: \\n...   \n",
       "..                                                 ...   \n",
       "116  Mr. Speaker, Mr. Vice President, Members of Co...   \n",
       "117  Mr. Speaker, Mr. Vice President, Members of Co...   \n",
       "118  Madam Speaker, Mr. Vice President, Members of ...   \n",
       "119  Madam Speaker, Mr. Vice President, Members of ...   \n",
       "120  9:06 P.M. EDT\\nTHE PRESIDENT:  Thank you.  (Ap...   \n",
       "\n",
       "                                           first_clean  \\\n",
       "0    to the senate and house of representatives: at...   \n",
       "1    to the senate and house of representatives: th...   \n",
       "2    to the senate and house of representatives: we...   \n",
       "3    to the senate and house of representatives: th...   \n",
       "4    to the senate and house of representatives: th...   \n",
       "..                                                 ...   \n",
       "116  mr. speaker, mr. vice president, members of co...   \n",
       "117  mr. speaker, mr. vice president, members of co...   \n",
       "118  madam speaker, mr. vice president, members of ...   \n",
       "119  madam speaker, mr. vice president, members of ...   \n",
       "120  9:06 p.m. edtthe president:  thank you.  (appl...   \n",
       "\n",
       "                                 first_clean_tokenized  Polarity  Subjectivity  \n",
       "0    [senate, house, representatives, outgoing, old...  0.115256      0.404176  \n",
       "1    [senate, house, representatives, congress, ass...  0.139217      0.471688  \n",
       "2    [senate, house, representatives, still, contin...  0.120273      0.497860  \n",
       "3    [senate, house, representatives, country, cong...  0.119628      0.456306  \n",
       "4    [senate, house, representatives, nation, conti...  0.137607      0.500679  \n",
       "..                                                 ...       ...           ...  \n",
       "116  [mr, speaker, mr, vice, president, members, co...  0.146113      0.450257  \n",
       "117  [mr, speaker, mr, vice, president, members, co...  0.113485      0.485158  \n",
       "118  [madam, speaker, mr, vice, president, members,...  0.114962      0.449762  \n",
       "119  [madam, speaker, mr, vice, president, members,...  0.137910      0.452048  \n",
       "120  [pm, edt, president, thank, applause, thank, t...  0.123282      0.386723  \n",
       "\n",
       "[121 rows x 8 columns]"
      ]
     },
     "execution_count": 22,
     "metadata": {},
     "output_type": "execute_result"
    }
   ],
   "source": [
    "#Sentiment analysis on Polarity and Subjectivity for all speeches using TextBlob:\n",
    "def sentiment(text):\n",
    "    try:\n",
    "        return TextBlob(text).sentiment\n",
    "    except:\n",
    "        return None\n",
    "    \n",
    "df_first_clean['Polarity'] = df_first_clean['first_clean'].apply(sentiment).apply(lambda x: x[0])\n",
    "df_first_clean['Subjectivity'] = df_first_clean['first_clean'].apply(sentiment).apply(lambda x: x[1])\n",
    "\n",
    "df_first_clean.to_pickle('pickled_data/data_first_clean_sentiment.pkl')\n",
    "\n",
    "df_first_clean"
   ]
  },
  {
   "cell_type": "markdown",
   "metadata": {},
   "source": [
    "### Sentiment analysis based on economic growth\n"
   ]
  },
  {
   "cell_type": "code",
   "execution_count": 23,
   "metadata": {},
   "outputs": [],
   "source": [
    "#Selection of years of economic crisis or growth:\n",
    "list_economic_crisis = [1930, 1931, 1932, 1986, 1987, 1988, 2008, 2009, 2010]\n",
    "list_economic_growth = [1926, 1927, 1928, 1992, 1993, 1994, 2005, 2006, 2007]"
   ]
  },
  {
   "cell_type": "markdown",
   "metadata": {},
   "source": [
    "#### Main method for the analysis"
   ]
  },
  {
   "cell_type": "code",
   "execution_count": 24,
   "metadata": {},
   "outputs": [],
   "source": [
    "def method_financial_sentiment(speech):\n",
    "    #We remove '\\n':\n",
    "    speech = speech.replace('\\n', '')\n",
    "    \n",
    "    #We split the speech into sentences to optimize for nltk.sentiment:\n",
    "    list_sentences = speech.split(sep='. ')\n",
    "    \n",
    "    #Add all the polarity scores of the sentences to a list:\n",
    "    scores = []\n",
    "    \n",
    "    sentimentIntensityAnalyzer = SentimentIntensityAnalyzer()\n",
    "    \n",
    "    for sentence in list_sentences:\n",
    "        scores.append(sentimentIntensityAnalyzer.polarity_scores(sentence))\n",
    "    \n",
    "    #Sums and finds average polarity for each speech:\n",
    "    list_all_posistive = []\n",
    "    list_all_neutral = []\n",
    "    list_all_negative = []\n",
    "    list_all_compound = []\n",
    "    \n",
    "    for score in scores:\n",
    "        for key, value in score.items():\n",
    "            if key == 'pos':\n",
    "                list_all_posistive.append(value)\n",
    "            if key == 'neu':\n",
    "                list_all_neutral.append(value)\n",
    "            if key == 'neg':\n",
    "                list_all_negative.append(value)\n",
    "            if key == 'compound':\n",
    "                list_all_compound.append(value)\n",
    "                \n",
    "    avg_posistive = round(sum(list_all_posistive) / len(list_all_posistive), 4)\n",
    "    avg_neutral = round(sum(list_all_neutral) / len(list_all_neutral), 4)\n",
    "    avg_negative = round(sum(list_all_negative) / len(list_all_negative), 4)\n",
    "    avg_compound = round(sum(list_all_compound) / len(list_all_compound), 4)\n",
    "     \n",
    "    #Result is a dictionary of the same format as from the original 'SentimentIntensityAnalyzer..polarity_scores()' method:\n",
    "    result = {'neg': avg_negative, 'neu': avg_neutral, 'pos': avg_posistive, 'compound': avg_compound}\n",
    "    \n",
    "    #Return result\n",
    "    return result"
   ]
  },
  {
   "cell_type": "markdown",
   "metadata": {},
   "source": [
    "#### Test of the method"
   ]
  },
  {
   "cell_type": "code",
   "execution_count": 25,
   "metadata": {},
   "outputs": [
    {
     "name": "stdout",
     "output_type": "stream",
     "text": [
      "SIMPLE:\n",
      "Positive:\n",
      "{'neg': 0.0, 'neu': 0.455, 'pos': 0.545, 'compound': 0.8555}\n",
      "Negative:\n",
      "{'neg': 0.527, 'neu': 0.473, 'pos': 0.0, 'compound': -0.8316}\n",
      "\n",
      "COMPLEX:\n",
      "(Slightly) Positive:\n",
      "{'neg': 0.0707, 'neu': 0.823, 'pos': 0.1063, 'compound': 0.08}\n",
      "Negative:\n",
      "{'neg': 0.1437, 'neu': 0.5673, 'pos': 0.039, 'compound': -0.4032}\n",
      "\n",
      "BEFORE AND AFTER 9/11:\n",
      "Before (2001):\n",
      "{'neg': 0.0508, 'neu': 0.7787, 'pos': 0.1705, 'compound': 0.2977}\n",
      "After (2002):\n",
      "{'neg': 0.1309, 'neu': 0.6953, 'pos': 0.1738, 'compound': 0.0734}\n"
     ]
    }
   ],
   "source": [
    "#Simple sentences:\n",
    "positive_sentence_1 = 'I love CPHBusiness and I think it is the best school'\n",
    "negative_sentence_1 = 'I hate CPHBusienss and I think it is the worst school'\n",
    "\n",
    "\n",
    "print('SIMPLE:')\n",
    "print('Positive:')\n",
    "print(method_financial_sentiment(positive_sentence_1))\n",
    "print('Negative:')\n",
    "print(method_financial_sentiment(negative_sentence_1))\n",
    "\n",
    "\n",
    "#Complex sentences (from 2002 speech):\n",
    "positive_sentence_2 = 'America and Afghanistan are now allies against terror. We will be partners in rebuilding that country. And this evening we welcome the distinguished interim leader of a liberated Afghanistan: Chairman Hamid Karzai. The last time we met in this chamber, the mothers and daughters of Afghanistan were captives in their own homes, forbidden from working or going to school. Today women are free, and are part of Afghanistans new government. And we welcome the new Minister of Womens Affairs, Doctor Sima Samar.'\n",
    "negative_sentence_2 = 'What we have found in Afghanistan confirms that, far from ending there, our war against terror is only beginning. Most of the 19 men who hijacked planes on September the 11th were trained in Afghanistans camps, and so were tens of thousands of others.  Thousands of dangerous killers, schooled in the methods of murder, often supported by outlaw regimes, are now spread throughout the world like ticking time bombs, set to go off without warning. '\n",
    "\n",
    "print('\\nCOMPLEX:')\n",
    "print('(Slightly) Positive:')\n",
    "print(method_financial_sentiment(positive_sentence_2))\n",
    "print('Negative:')\n",
    "print(method_financial_sentiment(negative_sentence_2))\n",
    "\n",
    "\n",
    "#Before and after 9/11:\n",
    "speech_2001 = df_second_clean['speech'][100]\n",
    "speech_2002 = df_second_clean['speech'][101]\n",
    "\n",
    "print('\\nBEFORE AND AFTER 9/11:')\n",
    "print('Before (2001):')\n",
    "print(method_financial_sentiment(speech_2001))\n",
    "print('After (2002):')\n",
    "print(method_financial_sentiment(speech_2002))\n"
   ]
  },
  {
   "cell_type": "markdown",
   "metadata": {},
   "source": [
    "#### Sentiment analysis using the main method"
   ]
  },
  {
   "cell_type": "code",
   "execution_count": 26,
   "metadata": {},
   "outputs": [],
   "source": [
    "# Initializes dataframe and removes unused column (if exists):\n",
    "df_economic_sentiment = df_second_clean.copy()\n",
    "if 'second_clean_lemmatized' in df_economic_sentiment.columns:\n",
    "    del df_economic_sentiment['second_clean_lemmatized']\n",
    "    \n",
    "# Uses lists created above to select years of crisis and growth:\n",
    "df_crisis = df_economic_sentiment.loc[df_economic_sentiment['year'].isin(list_economic_crisis), ['speech']]\n",
    "df_growth = df_economic_sentiment.loc[df_economic_sentiment['year'].isin(list_economic_growth), ['speech']]"
   ]
  },
  {
   "cell_type": "markdown",
   "metadata": {},
   "source": [
    "##### Result A: We get one combined result for crisis and growth periods "
   ]
  },
  {
   "cell_type": "code",
   "execution_count": 27,
   "metadata": {},
   "outputs": [
    {
     "name": "stdout",
     "output_type": "stream",
     "text": [
      "CRISIS YEARS:\n",
      "{'neg': 0.0716, 'neu': 0.7992, 'pos': 0.1292, 'compound': 0.1554}\n",
      "\n",
      "GROWTH YEARS:\n",
      "{'neg': 0.0648, 'neu': 0.8012, 'pos': 0.134, 'compound': 0.1784}\n"
     ]
    }
   ],
   "source": [
    "# Combines all speeches from the selected years of crisis and growth:\n",
    "crisis_speeches = ''.join(df_crisis.speech)\n",
    "growth_speeches = ''.join(df_growth.speech)\n",
    "\n",
    "# Uses main method to perform sentiment analysis:\n",
    "dict_crisis_result = method_financial_sentiment(crisis_speeches)\n",
    "dict_growth_result = method_financial_sentiment(growth_speeches)\n",
    "\n",
    "# Print result (plot doesn't make sense here):\n",
    "print('CRISIS YEARS:')\n",
    "print(dict_crisis_result)\n",
    "print('\\nGROWTH YEARS:')\n",
    "print(dict_growth_result)"
   ]
  },
  {
   "cell_type": "markdown",
   "metadata": {},
   "source": [
    "##### Result B: Results for each speech is added to DataFrame (for potential further analysis)"
   ]
  },
  {
   "cell_type": "code",
   "execution_count": 28,
   "metadata": {},
   "outputs": [
    {
     "data": {
      "text/html": [
       "<div>\n",
       "<style scoped>\n",
       "    .dataframe tbody tr th:only-of-type {\n",
       "        vertical-align: middle;\n",
       "    }\n",
       "\n",
       "    .dataframe tbody tr th {\n",
       "        vertical-align: top;\n",
       "    }\n",
       "\n",
       "    .dataframe thead th {\n",
       "        text-align: right;\n",
       "    }\n",
       "</style>\n",
       "<table border=\"1\" class=\"dataframe\">\n",
       "  <thead>\n",
       "    <tr style=\"text-align: right;\">\n",
       "      <th></th>\n",
       "      <th>year</th>\n",
       "      <th>President</th>\n",
       "      <th>Party</th>\n",
       "      <th>sentiment_crisis</th>\n",
       "      <th>sentiment_growth</th>\n",
       "    </tr>\n",
       "  </thead>\n",
       "  <tbody>\n",
       "    <tr>\n",
       "      <th>26</th>\n",
       "      <td>1926</td>\n",
       "      <td>Calvin Coolidge</td>\n",
       "      <td>Republican</td>\n",
       "      <td>NaN</td>\n",
       "      <td>{'neg': 0.0566, 'neu': 0.8211, 'pos': 0.1223, ...</td>\n",
       "    </tr>\n",
       "    <tr>\n",
       "      <th>27</th>\n",
       "      <td>1927</td>\n",
       "      <td>Calvin Coolidge</td>\n",
       "      <td>Republican</td>\n",
       "      <td>NaN</td>\n",
       "      <td>{'neg': 0.0518, 'neu': 0.8241, 'pos': 0.1241, ...</td>\n",
       "    </tr>\n",
       "    <tr>\n",
       "      <th>28</th>\n",
       "      <td>1928</td>\n",
       "      <td>Calvin Coolidge</td>\n",
       "      <td>Republican</td>\n",
       "      <td>NaN</td>\n",
       "      <td>{'neg': 0.041, 'neu': 0.841, 'pos': 0.1179, 'c...</td>\n",
       "    </tr>\n",
       "    <tr>\n",
       "      <th>30</th>\n",
       "      <td>1930</td>\n",
       "      <td>Herbert Hoover</td>\n",
       "      <td>Republican</td>\n",
       "      <td>{'neg': 0.0592, 'neu': 0.8518, 'pos': 0.089, '...</td>\n",
       "      <td>NaN</td>\n",
       "    </tr>\n",
       "    <tr>\n",
       "      <th>31</th>\n",
       "      <td>1931</td>\n",
       "      <td>Herbert Hoover</td>\n",
       "      <td>Republican</td>\n",
       "      <td>{'neg': 0.0618, 'neu': 0.8198, 'pos': 0.1184, ...</td>\n",
       "      <td>NaN</td>\n",
       "    </tr>\n",
       "    <tr>\n",
       "      <th>32</th>\n",
       "      <td>1932</td>\n",
       "      <td>Herbert Hoover</td>\n",
       "      <td>Republican</td>\n",
       "      <td>{'neg': 0.0761, 'neu': 0.8096, 'pos': 0.1143, ...</td>\n",
       "      <td>NaN</td>\n",
       "    </tr>\n",
       "    <tr>\n",
       "      <th>85</th>\n",
       "      <td>1986</td>\n",
       "      <td>Ronald Reagan</td>\n",
       "      <td>Republican</td>\n",
       "      <td>{'neg': 0.0804, 'neu': 0.7426, 'pos': 0.177, '...</td>\n",
       "      <td>NaN</td>\n",
       "    </tr>\n",
       "    <tr>\n",
       "      <th>86</th>\n",
       "      <td>1987</td>\n",
       "      <td>Ronald Reagan</td>\n",
       "      <td>Republican</td>\n",
       "      <td>{'neg': 0.0577, 'neu': 0.8056, 'pos': 0.1368, ...</td>\n",
       "      <td>NaN</td>\n",
       "    </tr>\n",
       "    <tr>\n",
       "      <th>87</th>\n",
       "      <td>1988</td>\n",
       "      <td>Ronald Reagan</td>\n",
       "      <td>Republican</td>\n",
       "      <td>{'neg': 0.0569, 'neu': 0.796, 'pos': 0.147, 'c...</td>\n",
       "      <td>NaN</td>\n",
       "    </tr>\n",
       "    <tr>\n",
       "      <th>91</th>\n",
       "      <td>1992</td>\n",
       "      <td>George Bush</td>\n",
       "      <td>Republican</td>\n",
       "      <td>NaN</td>\n",
       "      <td>{'neg': 0.0636, 'neu': 0.8088, 'pos': 0.1245, ...</td>\n",
       "    </tr>\n",
       "    <tr>\n",
       "      <th>92</th>\n",
       "      <td>1993</td>\n",
       "      <td>Bill Clinton</td>\n",
       "      <td>Democrat</td>\n",
       "      <td>NaN</td>\n",
       "      <td>{'neg': 0.0606, 'neu': 0.8071, 'pos': 0.1323, ...</td>\n",
       "    </tr>\n",
       "    <tr>\n",
       "      <th>93</th>\n",
       "      <td>1994</td>\n",
       "      <td>Bill Clinton</td>\n",
       "      <td>Democrat</td>\n",
       "      <td>NaN</td>\n",
       "      <td>{'neg': 0.0718, 'neu': 0.7947, 'pos': 0.1335, ...</td>\n",
       "    </tr>\n",
       "    <tr>\n",
       "      <th>104</th>\n",
       "      <td>2005</td>\n",
       "      <td>George W. Bush</td>\n",
       "      <td>Republican</td>\n",
       "      <td>NaN</td>\n",
       "      <td>{'neg': 0.0712, 'neu': 0.7475, 'pos': 0.1813, ...</td>\n",
       "    </tr>\n",
       "    <tr>\n",
       "      <th>105</th>\n",
       "      <td>2006</td>\n",
       "      <td>George W. Bush</td>\n",
       "      <td>Republican</td>\n",
       "      <td>NaN</td>\n",
       "      <td>{'neg': 0.1047, 'neu': 0.7275, 'pos': 0.1678, ...</td>\n",
       "    </tr>\n",
       "    <tr>\n",
       "      <th>106</th>\n",
       "      <td>2007</td>\n",
       "      <td>George W. Bush</td>\n",
       "      <td>Republican</td>\n",
       "      <td>NaN</td>\n",
       "      <td>{'neg': 0.0899, 'neu': 0.7626, 'pos': 0.1474, ...</td>\n",
       "    </tr>\n",
       "    <tr>\n",
       "      <th>107</th>\n",
       "      <td>2008</td>\n",
       "      <td>George W. Bush</td>\n",
       "      <td>Republican</td>\n",
       "      <td>{'neg': 0.0701, 'neu': 0.7596, 'pos': 0.1703, ...</td>\n",
       "      <td>NaN</td>\n",
       "    </tr>\n",
       "    <tr>\n",
       "      <th>108</th>\n",
       "      <td>2009</td>\n",
       "      <td>Barack Obama</td>\n",
       "      <td>Democrat</td>\n",
       "      <td>{'neg': 0.0786, 'neu': 0.8144, 'pos': 0.107, '...</td>\n",
       "      <td>NaN</td>\n",
       "    </tr>\n",
       "    <tr>\n",
       "      <th>109</th>\n",
       "      <td>2010</td>\n",
       "      <td>Barack Obama</td>\n",
       "      <td>Democrat</td>\n",
       "      <td>{'neg': 0.0847, 'neu': 0.7987, 'pos': 0.1167, ...</td>\n",
       "      <td>NaN</td>\n",
       "    </tr>\n",
       "  </tbody>\n",
       "</table>\n",
       "</div>"
      ],
      "text/plain": [
       "     year        President       Party  \\\n",
       "26   1926  Calvin Coolidge  Republican   \n",
       "27   1927  Calvin Coolidge  Republican   \n",
       "28   1928  Calvin Coolidge  Republican   \n",
       "30   1930   Herbert Hoover  Republican   \n",
       "31   1931   Herbert Hoover  Republican   \n",
       "32   1932   Herbert Hoover  Republican   \n",
       "85   1986    Ronald Reagan  Republican   \n",
       "86   1987    Ronald Reagan  Republican   \n",
       "87   1988    Ronald Reagan  Republican   \n",
       "91   1992      George Bush  Republican   \n",
       "92   1993     Bill Clinton    Democrat   \n",
       "93   1994     Bill Clinton    Democrat   \n",
       "104  2005   George W. Bush  Republican   \n",
       "105  2006   George W. Bush  Republican   \n",
       "106  2007   George W. Bush  Republican   \n",
       "107  2008   George W. Bush  Republican   \n",
       "108  2009     Barack Obama    Democrat   \n",
       "109  2010     Barack Obama    Democrat   \n",
       "\n",
       "                                      sentiment_crisis  \\\n",
       "26                                                 NaN   \n",
       "27                                                 NaN   \n",
       "28                                                 NaN   \n",
       "30   {'neg': 0.0592, 'neu': 0.8518, 'pos': 0.089, '...   \n",
       "31   {'neg': 0.0618, 'neu': 0.8198, 'pos': 0.1184, ...   \n",
       "32   {'neg': 0.0761, 'neu': 0.8096, 'pos': 0.1143, ...   \n",
       "85   {'neg': 0.0804, 'neu': 0.7426, 'pos': 0.177, '...   \n",
       "86   {'neg': 0.0577, 'neu': 0.8056, 'pos': 0.1368, ...   \n",
       "87   {'neg': 0.0569, 'neu': 0.796, 'pos': 0.147, 'c...   \n",
       "91                                                 NaN   \n",
       "92                                                 NaN   \n",
       "93                                                 NaN   \n",
       "104                                                NaN   \n",
       "105                                                NaN   \n",
       "106                                                NaN   \n",
       "107  {'neg': 0.0701, 'neu': 0.7596, 'pos': 0.1703, ...   \n",
       "108  {'neg': 0.0786, 'neu': 0.8144, 'pos': 0.107, '...   \n",
       "109  {'neg': 0.0847, 'neu': 0.7987, 'pos': 0.1167, ...   \n",
       "\n",
       "                                      sentiment_growth  \n",
       "26   {'neg': 0.0566, 'neu': 0.8211, 'pos': 0.1223, ...  \n",
       "27   {'neg': 0.0518, 'neu': 0.8241, 'pos': 0.1241, ...  \n",
       "28   {'neg': 0.041, 'neu': 0.841, 'pos': 0.1179, 'c...  \n",
       "30                                                 NaN  \n",
       "31                                                 NaN  \n",
       "32                                                 NaN  \n",
       "85                                                 NaN  \n",
       "86                                                 NaN  \n",
       "87                                                 NaN  \n",
       "91   {'neg': 0.0636, 'neu': 0.8088, 'pos': 0.1245, ...  \n",
       "92   {'neg': 0.0606, 'neu': 0.8071, 'pos': 0.1323, ...  \n",
       "93   {'neg': 0.0718, 'neu': 0.7947, 'pos': 0.1335, ...  \n",
       "104  {'neg': 0.0712, 'neu': 0.7475, 'pos': 0.1813, ...  \n",
       "105  {'neg': 0.1047, 'neu': 0.7275, 'pos': 0.1678, ...  \n",
       "106  {'neg': 0.0899, 'neu': 0.7626, 'pos': 0.1474, ...  \n",
       "107                                                NaN  \n",
       "108                                                NaN  \n",
       "109                                                NaN  "
      ]
     },
     "execution_count": 28,
     "metadata": {},
     "output_type": "execute_result"
    }
   ],
   "source": [
    "# Adds result to main DataFrame:\n",
    "df_economic_sentiment['sentiment_crisis'] = df_crisis.speech.apply(method_financial_sentiment)\n",
    "df_economic_sentiment['sentiment_growth'] = df_growth.speech.apply(method_financial_sentiment)\n",
    "\n",
    "# Removes 'speech' column (if exists):\n",
    "if 'speech' in df_economic_sentiment.columns:\n",
    "    del df_economic_sentiment['speech']\n",
    "\n",
    "# Removes all years from DataFrame that is not part of the analysis:\n",
    "df_economic_sentiment = df_economic_sentiment.dropna(subset=['sentiment_crisis', 'sentiment_growth'], thresh=1)\n",
    "\n",
    "#Print result:\n",
    "df_economic_sentiment"
   ]
  },
  {
   "cell_type": "markdown",
   "metadata": {},
   "source": [
    "## Text complexity (LIX)\n"
   ]
  },
  {
   "cell_type": "markdown",
   "metadata": {},
   "source": [
    "#### Definition of LIX"
   ]
  },
  {
   "cell_type": "markdown",
   "metadata": {},
   "source": [
    "<b>Calculation:</b>\n",
    "\n",
    "<img src=\"./images/lix.png\" align=left>\n",
    "\n",
    "<br><br>\n",
    "\n",
    "<p>where</p>\n",
    "\n",
    "<ul>\n",
    "<li>A is the number of words,</li>\n",
    "<li>B is the number of periods (defined by period or colon), and</li>\n",
    "<li>C is the number of long words (more than 6 letters).</li>\n",
    "</ul>\n",
    "<p><i>Source: Wikipedia</i><p>\n",
    "<br>\n",
    "\n",
    "<b>Scores:</b>\n",
    "<ul>\n",
    "    <li>Greater than 54: Very difficult</li>\n",
    "    <li>Between 45-54 Difficult</li>\n",
    "    <li>Between 35-44 Medium</li>\n",
    "    <li>Between 25-34 Easy</li>\n",
    "    <li>Less than 25: Very easy</li>\n",
    "</ul>\n"
   ]
  },
  {
   "cell_type": "markdown",
   "metadata": {},
   "source": [
    "#### LIX analysis"
   ]
  },
  {
   "cell_type": "code",
   "execution_count": 29,
   "metadata": {},
   "outputs": [],
   "source": [
    "# Copy main dataframe (first clean - we don't want lemmatization here!):\n",
    "df_lix = df_first_clean.copy()\n",
    "df_lix = df_lix.drop(columns = ['speech', 'first_clean_tokenized'])\n",
    "\n",
    "\n",
    "# WORD COUNT:\n",
    "# Method to calculate total words in each speach:\n",
    "def word_count(speech):\n",
    "    return sum(1 for word in speech.split(' '))\n",
    "\n",
    "# Get total words in each speech and add result to DataFrame:\n",
    "df_lix['word_count'] = df_lix.first_clean.apply(word_count)\n",
    "\n",
    "\n",
    "# COUNT OF PERIODS:\n",
    "# Method to calculate total number of periods (period or colon) in each speach:\n",
    "def period_count(speech):\n",
    "    result = speech.count('.') + speech.count(':')\n",
    "    return result\n",
    "\n",
    "# Get total number of periods in each speech and add result to DataFrame:\n",
    "df_lix['period_count'] = df_lix.first_clean.apply(period_count)\n",
    "\n",
    "\n",
    "# COUNT OF LONG WORDS:\n",
    "# Method to long words (< 6 characters) in each speach:\n",
    "def long_word_count(speech):\n",
    "    count = 0\n",
    "    for word in speech.split(' '):\n",
    "        if len(word) > 6:\n",
    "            count += 1\n",
    "    return count\n",
    "\n",
    "# Get total number of long words in each speech and add result to DataFrame:\n",
    "df_lix['long_words_count'] = df_lix.first_clean.apply(long_word_count)\n",
    "\n",
    "\n",
    "# CALCULATE LIX:\n",
    "# Calculates LIX for each speech and adds result to DataFrame:\n",
    "df_lix['lix'] = (df_lix.word_count/df_lix.period_count) + ((df_lix.long_words_count*100) / df_lix.word_count)"
   ]
  },
  {
   "cell_type": "markdown",
   "metadata": {},
   "source": [
    "#### Present results from LIX analysis:"
   ]
  },
  {
   "cell_type": "code",
   "execution_count": 30,
   "metadata": {},
   "outputs": [
    {
     "data": {
      "text/plain": [
       "<matplotlib.axes._subplots.AxesSubplot at 0x7f215fb0a8d0>"
      ]
     },
     "execution_count": 30,
     "metadata": {},
     "output_type": "execute_result"
    },
    {
     "data": {
      "image/png": "[encoded data removed]",
      "text/plain": [
       "<Figure size 432x288 with 1 Axes>"
      ]
     },
     "metadata": {
      "needs_background": "light"
     },
     "output_type": "display_data"
    }
   ],
   "source": [
    "# Development in LIX over the years for all speeches:\n",
    "df_lix.plot(x = 'year', y = 'lix')"
   ]
  },
  {
   "cell_type": "code",
   "execution_count": 31,
   "metadata": {},
   "outputs": [
    {
     "data": {
      "image/png": "[encoded data removed]",
      "text/plain": [
       "<Figure size 432x288 with 1 Axes>"
      ]
     },
     "metadata": {
      "needs_background": "light"
     },
     "output_type": "display_data"
    }
   ],
   "source": [
    "# Development in LIX showing difference between Democrats and Republicans:\n",
    "df_lix_party = df_lix.copy()\n",
    "\n",
    "df_lix_party = df_lix.pivot(index='year', columns='Party', values='lix')\n",
    "df_lix_party.plot(color=['blue', 'red'])\n",
    "\n",
    "plt.ylabel('LIX')\n",
    "plt.xlabel('YEARS')\n",
    "plt.show()"
   ]
  },
  {
   "cell_type": "code",
   "execution_count": 32,
   "metadata": {},
   "outputs": [
    {
     "data": {
      "image/png": "[encoded data removed]",
      "text/plain": [
       "<Figure size 432x288 with 1 Axes>"
      ]
     },
     "metadata": {
      "needs_background": "light"
     },
     "output_type": "display_data"
    }
   ],
   "source": [
    "# Comparison of between speeches performed by Obama and Trump:\n",
    "mask_obama = (df_lix['President'] == 'Barack Obama')\n",
    "mask_trump = (df_lix['President'] == 'Donald Trump')\n",
    "\n",
    "avg_lix_obama = df_lix[mask_obama]['lix'].mean()\n",
    "avg_lix_trump = df_lix[mask_trump]['lix'].mean()\n",
    "\n",
    "x = [\"Obama\", \"Trump\"]\n",
    "y = [avg_lix_obama, avg_lix_trump]\n",
    "\n",
    "\n",
    "plt.bar(x,y)\n",
    "plt.ylabel('AVG. LIX')\n",
    "plt.xlabel('PRESIDENT')\n",
    "plt.show()"
   ]
  },
  {
   "cell_type": "markdown",
   "metadata": {},
   "source": [
    "\n",
    "\n",
    "## Word frequency "
   ]
  },
  {
   "cell_type": "markdown",
   "metadata": {},
   "source": [
    "### Before lemmatization"
   ]
  },
  {
   "cell_type": "code",
   "execution_count": 33,
   "metadata": {},
   "outputs": [],
   "source": [
    "#Masks to filter on democrats and republicans\n",
    "mask_democrats = (df_first_clean['Party'] == 'Democrat')\n",
    "mask_republicans = (df_first_clean['Party'] == 'Republican')\n",
    "\n",
    "#DEMOCRATS:\n",
    "#Filter dataframe on democrats:\n",
    "df_first_clean_democrats = df_first_clean[mask_democrats]\n",
    "#Takes 'first_clean_tokenized' column and converts to list:\n",
    "tokenized_speeches_democrats = df_first_clean_democrats['first_clean_tokenized'].tolist()\n",
    "#Combines list of lists into one list:\n",
    "tokenized_speeches_democrats = list(itertools.chain.from_iterable(tokenized_speeches_democrats))\n",
    "\n",
    "#Republicans:\n",
    "#Filter dataframe on republicans:\n",
    "df_first_clean_republicans = df_first_clean[mask_republicans]\n",
    "#Takes 'first_clean_tokenized' column and converts to list:\n",
    "tokenized_speeches_republicans = df_first_clean_republicans['first_clean_tokenized'].tolist()\n",
    "#Combines list of lists into one list:\n",
    "tokenized_speeches_republicans = list(itertools.chain.from_iterable(tokenized_speeches_republicans))"
   ]
  },
  {
   "cell_type": "code",
   "execution_count": 48,
   "metadata": {},
   "outputs": [
    {
     "data": {
      "image/png": "[encoded data removed]",
      "text/plain": [
       "<Figure size 432x288 with 1 Axes>"
      ]
     },
     "metadata": {
      "needs_background": "light"
     },
     "output_type": "display_data"
    },
    {
     "data": {
      "text/plain": [
       "[('must', 1158),\n",
       " ('people', 1127),\n",
       " ('world', 991),\n",
       " ('new', 928),\n",
       " ('year', 886),\n",
       " ('us', 880),\n",
       " ('congress', 808),\n",
       " ('government', 751),\n",
       " ('war', 724),\n",
       " ('america', 707),\n",
       " ('american', 682),\n",
       " ('years', 672),\n",
       " ('every', 632),\n",
       " ('work', 624),\n",
       " ('nation', 615),\n",
       " ('one', 608),\n",
       " ('make', 600),\n",
       " ('time', 559),\n",
       " ('country', 531),\n",
       " ('national', 489)]"
      ]
     },
     "execution_count": 48,
     "metadata": {},
     "output_type": "execute_result"
    }
   ],
   "source": [
    "#Checks word freq in all democrat speeches:\n",
    "freqDist_democrats = FreqDist(tokenized_speeches_democrats)\n",
    "\n",
    "dem_to_dict = dict(freqDist_democrats.most_common(20))\n",
    "\n",
    "    \n",
    "plt.bar(*zip(*dem_to_dict.items()), color='blue')\n",
    "plt.xticks(rotation=90)\n",
    "plt.title('D - 20 most frequent words')\n",
    "\n",
    "plt.show()\n",
    "\n",
    "freqDist_democrats.most_common(20)"
   ]
  },
  {
   "cell_type": "code",
   "execution_count": 49,
   "metadata": {},
   "outputs": [
    {
     "data": {
      "image/png": "[encoded data removed]",
      "text/plain": [
       "<Figure size 432x288 with 1 Axes>"
      ]
     },
     "metadata": {
      "needs_background": "light"
     },
     "output_type": "display_data"
    },
    {
     "data": {
      "text/plain": [
       "[('government', 2007),\n",
       " ('congress', 1477),\n",
       " ('must', 1381),\n",
       " ('people', 1341),\n",
       " ('states', 1262),\n",
       " ('american', 1150),\n",
       " ('would', 1140),\n",
       " ('great', 1045),\n",
       " ('one', 1016),\n",
       " ('year', 1008),\n",
       " ('world', 985),\n",
       " ('new', 984),\n",
       " ('country', 984),\n",
       " ('united', 981),\n",
       " ('america', 961),\n",
       " ('made', 946),\n",
       " ('upon', 936),\n",
       " ('us', 892),\n",
       " ('law', 875),\n",
       " ('years', 867)]"
      ]
     },
     "execution_count": 49,
     "metadata": {},
     "output_type": "execute_result"
    }
   ],
   "source": [
    "#Checks word freq in all republican speeches:\n",
    "freqDist_republicans = FreqDist(tokenized_speeches_republicans)\n",
    "\n",
    "rep_to_dict = dict(freqDist_republicans.most_common(20))\n",
    "\n",
    "    \n",
    "plt.bar(*zip(*rep_to_dict.items()), color='red')\n",
    "plt.xticks(rotation=90)\n",
    "plt.title('D - 20 most frequent words')\n",
    "\n",
    "plt.show()\n",
    "\n",
    "freqDist_republicans.most_common(20)"
   ]
  },
  {
   "cell_type": "markdown",
   "metadata": {},
   "source": [
    "### After lemmatization"
   ]
  },
  {
   "cell_type": "code",
   "execution_count": null,
   "metadata": {},
   "outputs": [],
   "source": [
    "#Masks to filter on democrats and republicans\n",
    "mask_democrats = (df_second_clean['Party'] == 'Democrat')\n",
    "mask_republicans = (df_second_clean['Party'] == 'Republican')\n",
    "\n",
    "#DEMOCRATS:\n",
    "#Filter dataframe on democrats:\n",
    "df_second_clean_democrats = df_second_clean[mask_democrats]\n",
    "#Takes 'second_clean_lemmatized' column and converts to list:\n",
    "lemmatized_speeches_democrats = df_second_clean_democrats['second_clean_lemmatized'].tolist()\n",
    "#Combines list of lists into one list:\n",
    "lemmatized_speeches_democrats = list(itertools.chain.from_iterable(lemmatized_speeches_democrats))\n",
    "\n",
    "#Republicans:\n",
    "#Filter dataframe on republicans:\n",
    "df_second_clean_republicans = df_second_clean[mask_republicans]\n",
    "#Takes 'second_clean_lemmatized' column and converts to list:\n",
    "lemmatized_speeches_republicans = df_second_clean_republicans['second_clean_lemmatized'].tolist()\n",
    "#Combines list of lists into one list:\n",
    "lemmatized_speeches_republicans = list(itertools.chain.from_iterable(lemmatized_speeches_republicans))"
   ]
  },
  {
   "cell_type": "code",
   "execution_count": 50,
   "metadata": {},
   "outputs": [
    {
     "data": {
      "image/png": "[encoded data removed]",
      "text/plain": [
       "<Figure size 432x288 with 1 Axes>"
      ]
     },
     "metadata": {
      "needs_background": "light"
     },
     "output_type": "display_data"
    },
    {
     "data": {
      "text/plain": [
       "[('must', 1158),\n",
       " ('people', 1127),\n",
       " ('world', 991),\n",
       " ('new', 928),\n",
       " ('year', 886),\n",
       " ('us', 880),\n",
       " ('congress', 808),\n",
       " ('government', 751),\n",
       " ('war', 724),\n",
       " ('america', 707),\n",
       " ('american', 682),\n",
       " ('years', 672),\n",
       " ('every', 632),\n",
       " ('work', 624),\n",
       " ('nation', 615),\n",
       " ('one', 608),\n",
       " ('make', 600),\n",
       " ('time', 559),\n",
       " ('country', 531),\n",
       " ('national', 489)]"
      ]
     },
     "execution_count": 50,
     "metadata": {},
     "output_type": "execute_result"
    }
   ],
   "source": [
    "#Checks word freq in all democrat speeches:\n",
    "freqDistr_democrats = FreqDist(lemmatized_speeches_democrats)\n",
    "\n",
    "dems_to_dict = dict(freqDistr_democrats.most_common(20))\n",
    "\n",
    "plt.bar(*zip(*dems_to_dict.items()), color='blue')\n",
    "plt.xticks(rotation=90)\n",
    "plt.title('D - 20 most frequent words')\n",
    "\n",
    "plt.show()\n",
    "\n",
    "freqDist_democrats.most_common(20)"
   ]
  },
  {
   "cell_type": "code",
   "execution_count": 51,
   "metadata": {},
   "outputs": [
    {
     "data": {
      "image/png": "[encoded data removed]",
      "text/plain": [
       "<Figure size 432x288 with 1 Axes>"
      ]
     },
     "metadata": {
      "needs_background": "light"
     },
     "output_type": "display_data"
    },
    {
     "data": {
      "text/plain": [
       "[('government', 2007),\n",
       " ('congress', 1477),\n",
       " ('must', 1381),\n",
       " ('people', 1341),\n",
       " ('states', 1262),\n",
       " ('american', 1150),\n",
       " ('would', 1140),\n",
       " ('great', 1045),\n",
       " ('one', 1016),\n",
       " ('year', 1008),\n",
       " ('world', 985),\n",
       " ('new', 984),\n",
       " ('country', 984),\n",
       " ('united', 981),\n",
       " ('america', 961),\n",
       " ('made', 946),\n",
       " ('upon', 936),\n",
       " ('us', 892),\n",
       " ('law', 875),\n",
       " ('years', 867)]"
      ]
     },
     "execution_count": 51,
     "metadata": {},
     "output_type": "execute_result"
    }
   ],
   "source": [
    "#Checks word freq in all republican speeches:\n",
    "freqDistr_republicans = FreqDist(lemmatized_speeches_republicans)\n",
    "\n",
    "reps_to_dict = dict(freqDistr_republicans.most_common(20))\n",
    "\n",
    "plt.bar(*zip(*reps_to_dict.items()), color='red')\n",
    "plt.xticks(rotation=90)\n",
    "plt.title('D - 20 most frequent words')\n",
    "\n",
    "plt.show()\n",
    "\n",
    "freqDist_republicans.most_common(20)"
   ]
  },
  {
   "cell_type": "code",
   "execution_count": null,
   "metadata": {},
   "outputs": [],
   "source": []
  }
 ],
 "metadata": {
  "kernelspec": {
   "display_name": "Python 3",
   "language": "python",
   "name": "python3"
  },
  "language_info": {
   "codemirror_mode": {
    "name": "ipython",
    "version": 3
   },
   "file_extension": ".py",
   "mimetype": "text/x-python",
   "name": "python",
   "nbconvert_exporter": "python",
   "pygments_lexer": "ipython3",
   "version": "3.7.6"
  }
 },
 "nbformat": 4,
 "nbformat_minor": 4
}
