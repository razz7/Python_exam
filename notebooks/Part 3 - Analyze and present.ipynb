{
 "cells": [
  {
   "cell_type": "code",
   "execution_count": 43,
   "metadata": {},
   "outputs": [],
   "source": [
    "import pandas as pd\n",
    "from nltk import sent_tokenize,word_tokenize\n",
    "from textblob import TextBlob\n",
    "from nltk import FreqDist\n",
    "import itertools"
   ]
  },
  {
   "cell_type": "markdown",
   "metadata": {},
   "source": [
    "## Loads pickled data:"
   ]
  },
  {
   "cell_type": "code",
   "execution_count": 84,
   "metadata": {},
   "outputs": [
    {
     "data": {
      "text/html": [
       "<div>\n",
       "<style scoped>\n",
       "    .dataframe tbody tr th:only-of-type {\n",
       "        vertical-align: middle;\n",
       "    }\n",
       "\n",
       "    .dataframe tbody tr th {\n",
       "        vertical-align: top;\n",
       "    }\n",
       "\n",
       "    .dataframe thead th {\n",
       "        text-align: right;\n",
       "    }\n",
       "</style>\n",
       "<table border=\"1\" class=\"dataframe\">\n",
       "  <thead>\n",
       "    <tr style=\"text-align: right;\">\n",
       "      <th></th>\n",
       "      <th>year</th>\n",
       "      <th>President</th>\n",
       "      <th>Party</th>\n",
       "      <th>speech</th>\n",
       "      <th>second_clean_lemmatized</th>\n",
       "    </tr>\n",
       "  </thead>\n",
       "  <tbody>\n",
       "    <tr>\n",
       "      <th>0</th>\n",
       "      <td>1900</td>\n",
       "      <td>William McKinley</td>\n",
       "      <td>Republican</td>\n",
       "      <td>To the Senate and House of Representatives: \\n...</td>\n",
       "      <td>[senate, house, representative, outgoing, old,...</td>\n",
       "    </tr>\n",
       "    <tr>\n",
       "      <th>1</th>\n",
       "      <td>1901</td>\n",
       "      <td>Theodore Roosevelt</td>\n",
       "      <td>Republican</td>\n",
       "      <td>To the Senate and House of Representatives: \\n...</td>\n",
       "      <td>[senate, house, representative, congress, asse...</td>\n",
       "    </tr>\n",
       "    <tr>\n",
       "      <th>2</th>\n",
       "      <td>1902</td>\n",
       "      <td>Theodore Roosevelt</td>\n",
       "      <td>Republican</td>\n",
       "      <td>To the Senate and House of Representatives: \\n...</td>\n",
       "      <td>[senate, house, representative, still, continu...</td>\n",
       "    </tr>\n",
       "    <tr>\n",
       "      <th>3</th>\n",
       "      <td>1903</td>\n",
       "      <td>Theodore Roosevelt</td>\n",
       "      <td>Republican</td>\n",
       "      <td>To the Senate and House of Representatives: \\n...</td>\n",
       "      <td>[senate, house, representative, country, congr...</td>\n",
       "    </tr>\n",
       "    <tr>\n",
       "      <th>4</th>\n",
       "      <td>1904</td>\n",
       "      <td>Theodore Roosevelt</td>\n",
       "      <td>Republican</td>\n",
       "      <td>To the Senate and House of Representatives: \\n...</td>\n",
       "      <td>[senate, house, representative, nation, contin...</td>\n",
       "    </tr>\n",
       "    <tr>\n",
       "      <th>...</th>\n",
       "      <td>...</td>\n",
       "      <td>...</td>\n",
       "      <td>...</td>\n",
       "      <td>...</td>\n",
       "      <td>...</td>\n",
       "    </tr>\n",
       "    <tr>\n",
       "      <th>116</th>\n",
       "      <td>2017</td>\n",
       "      <td>Donald Trump</td>\n",
       "      <td>Republican</td>\n",
       "      <td>Mr. Speaker, Mr. Vice President, Members of Co...</td>\n",
       "      <td>[mr, speaker, mr, vice, president, member, con...</td>\n",
       "    </tr>\n",
       "    <tr>\n",
       "      <th>117</th>\n",
       "      <td>2018</td>\n",
       "      <td>Donald Trump</td>\n",
       "      <td>Republican</td>\n",
       "      <td>Mr. Speaker, Mr. Vice President, Members of Co...</td>\n",
       "      <td>[mr, speaker, mr, vice, president, member, con...</td>\n",
       "    </tr>\n",
       "    <tr>\n",
       "      <th>118</th>\n",
       "      <td>2019</td>\n",
       "      <td>Donald Trump</td>\n",
       "      <td>Republican</td>\n",
       "      <td>Madam Speaker, Mr. Vice President, Members of ...</td>\n",
       "      <td>[madam, speaker, mr, vice, president, member, ...</td>\n",
       "    </tr>\n",
       "    <tr>\n",
       "      <th>119</th>\n",
       "      <td>2020</td>\n",
       "      <td>Donald Trump</td>\n",
       "      <td>Republican</td>\n",
       "      <td>Madam Speaker, Mr. Vice President, Members of ...</td>\n",
       "      <td>[madam, speaker, mr, vice, president, member, ...</td>\n",
       "    </tr>\n",
       "    <tr>\n",
       "      <th>120</th>\n",
       "      <td>2021</td>\n",
       "      <td>Joe Biden</td>\n",
       "      <td>Democrat</td>\n",
       "      <td>9:06 P.M. EDT\\nTHE PRESIDENT:  Thank you.  (Ap...</td>\n",
       "      <td>[pm, edt, president, thank, applause, thank, t...</td>\n",
       "    </tr>\n",
       "  </tbody>\n",
       "</table>\n",
       "<p>121 rows × 5 columns</p>\n",
       "</div>"
      ],
      "text/plain": [
       "     year           President       Party  \\\n",
       "0    1900    William McKinley  Republican   \n",
       "1    1901  Theodore Roosevelt  Republican   \n",
       "2    1902  Theodore Roosevelt  Republican   \n",
       "3    1903  Theodore Roosevelt  Republican   \n",
       "4    1904  Theodore Roosevelt  Republican   \n",
       "..    ...                 ...         ...   \n",
       "116  2017        Donald Trump  Republican   \n",
       "117  2018        Donald Trump  Republican   \n",
       "118  2019        Donald Trump  Republican   \n",
       "119  2020        Donald Trump  Republican   \n",
       "120  2021           Joe Biden    Democrat   \n",
       "\n",
       "                                                speech  \\\n",
       "0    To the Senate and House of Representatives: \\n...   \n",
       "1    To the Senate and House of Representatives: \\n...   \n",
       "2    To the Senate and House of Representatives: \\n...   \n",
       "3    To the Senate and House of Representatives: \\n...   \n",
       "4    To the Senate and House of Representatives: \\n...   \n",
       "..                                                 ...   \n",
       "116  Mr. Speaker, Mr. Vice President, Members of Co...   \n",
       "117  Mr. Speaker, Mr. Vice President, Members of Co...   \n",
       "118  Madam Speaker, Mr. Vice President, Members of ...   \n",
       "119  Madam Speaker, Mr. Vice President, Members of ...   \n",
       "120  9:06 P.M. EDT\\nTHE PRESIDENT:  Thank you.  (Ap...   \n",
       "\n",
       "                               second_clean_lemmatized  \n",
       "0    [senate, house, representative, outgoing, old,...  \n",
       "1    [senate, house, representative, congress, asse...  \n",
       "2    [senate, house, representative, still, continu...  \n",
       "3    [senate, house, representative, country, congr...  \n",
       "4    [senate, house, representative, nation, contin...  \n",
       "..                                                 ...  \n",
       "116  [mr, speaker, mr, vice, president, member, con...  \n",
       "117  [mr, speaker, mr, vice, president, member, con...  \n",
       "118  [madam, speaker, mr, vice, president, member, ...  \n",
       "119  [madam, speaker, mr, vice, president, member, ...  \n",
       "120  [pm, edt, president, thank, applause, thank, t...  \n",
       "\n",
       "[121 rows x 5 columns]"
      ]
     },
     "execution_count": 84,
     "metadata": {},
     "output_type": "execute_result"
    }
   ],
   "source": [
    "df_first_clean = pd.read_pickle('pickled_data/data_first_clean.pkl')\n",
    "df_second_clean = pd.read_pickle('pickled_data/data_second_clean.pkl')\n",
    "df_second_clean"
   ]
  },
  {
   "cell_type": "markdown",
   "metadata": {},
   "source": [
    "## Sentiment analysis "
   ]
  },
  {
   "cell_type": "code",
   "execution_count": 34,
   "metadata": {},
   "outputs": [
    {
     "data": {
      "text/html": [
       "<div>\n",
       "<style scoped>\n",
       "    .dataframe tbody tr th:only-of-type {\n",
       "        vertical-align: middle;\n",
       "    }\n",
       "\n",
       "    .dataframe tbody tr th {\n",
       "        vertical-align: top;\n",
       "    }\n",
       "\n",
       "    .dataframe thead th {\n",
       "        text-align: right;\n",
       "    }\n",
       "</style>\n",
       "<table border=\"1\" class=\"dataframe\">\n",
       "  <thead>\n",
       "    <tr style=\"text-align: right;\">\n",
       "      <th></th>\n",
       "      <th>year</th>\n",
       "      <th>President</th>\n",
       "      <th>Party</th>\n",
       "      <th>speech</th>\n",
       "      <th>first_clean</th>\n",
       "      <th>first_clean_tokenized</th>\n",
       "      <th>Polarity</th>\n",
       "      <th>Subjectivity</th>\n",
       "    </tr>\n",
       "  </thead>\n",
       "  <tbody>\n",
       "    <tr>\n",
       "      <th>0</th>\n",
       "      <td>1900</td>\n",
       "      <td>William McKinley</td>\n",
       "      <td>Republican</td>\n",
       "      <td>To the Senate and House of Representatives: \\n...</td>\n",
       "      <td>to the senate and house of representatives: at...</td>\n",
       "      <td>[senate, house, representatives, outgoing, old...</td>\n",
       "      <td>0.115256</td>\n",
       "      <td>0.404176</td>\n",
       "    </tr>\n",
       "    <tr>\n",
       "      <th>1</th>\n",
       "      <td>1901</td>\n",
       "      <td>Theodore Roosevelt</td>\n",
       "      <td>Republican</td>\n",
       "      <td>To the Senate and House of Representatives: \\n...</td>\n",
       "      <td>to the senate and house of representatives: th...</td>\n",
       "      <td>[senate, house, representatives, congress, ass...</td>\n",
       "      <td>0.139217</td>\n",
       "      <td>0.471688</td>\n",
       "    </tr>\n",
       "    <tr>\n",
       "      <th>2</th>\n",
       "      <td>1902</td>\n",
       "      <td>Theodore Roosevelt</td>\n",
       "      <td>Republican</td>\n",
       "      <td>To the Senate and House of Representatives: \\n...</td>\n",
       "      <td>to the senate and house of representatives: we...</td>\n",
       "      <td>[senate, house, representatives, still, contin...</td>\n",
       "      <td>0.120273</td>\n",
       "      <td>0.497860</td>\n",
       "    </tr>\n",
       "    <tr>\n",
       "      <th>3</th>\n",
       "      <td>1903</td>\n",
       "      <td>Theodore Roosevelt</td>\n",
       "      <td>Republican</td>\n",
       "      <td>To the Senate and House of Representatives: \\n...</td>\n",
       "      <td>to the senate and house of representatives: th...</td>\n",
       "      <td>[senate, house, representatives, country, cong...</td>\n",
       "      <td>0.119628</td>\n",
       "      <td>0.456306</td>\n",
       "    </tr>\n",
       "    <tr>\n",
       "      <th>4</th>\n",
       "      <td>1904</td>\n",
       "      <td>Theodore Roosevelt</td>\n",
       "      <td>Republican</td>\n",
       "      <td>To the Senate and House of Representatives: \\n...</td>\n",
       "      <td>to the senate and house of representatives: th...</td>\n",
       "      <td>[senate, house, representatives, nation, conti...</td>\n",
       "      <td>0.137607</td>\n",
       "      <td>0.500679</td>\n",
       "    </tr>\n",
       "    <tr>\n",
       "      <th>...</th>\n",
       "      <td>...</td>\n",
       "      <td>...</td>\n",
       "      <td>...</td>\n",
       "      <td>...</td>\n",
       "      <td>...</td>\n",
       "      <td>...</td>\n",
       "      <td>...</td>\n",
       "      <td>...</td>\n",
       "    </tr>\n",
       "    <tr>\n",
       "      <th>116</th>\n",
       "      <td>2017</td>\n",
       "      <td>Donald Trump</td>\n",
       "      <td>Republican</td>\n",
       "      <td>Mr. Speaker, Mr. Vice President, Members of Co...</td>\n",
       "      <td>mr. speaker, mr. vice president, members of co...</td>\n",
       "      <td>[mr, speaker, mr, vice, president, members, co...</td>\n",
       "      <td>0.146113</td>\n",
       "      <td>0.450257</td>\n",
       "    </tr>\n",
       "    <tr>\n",
       "      <th>117</th>\n",
       "      <td>2018</td>\n",
       "      <td>Donald Trump</td>\n",
       "      <td>Republican</td>\n",
       "      <td>Mr. Speaker, Mr. Vice President, Members of Co...</td>\n",
       "      <td>mr. speaker, mr. vice president, members of co...</td>\n",
       "      <td>[mr, speaker, mr, vice, president, members, co...</td>\n",
       "      <td>0.113485</td>\n",
       "      <td>0.485158</td>\n",
       "    </tr>\n",
       "    <tr>\n",
       "      <th>118</th>\n",
       "      <td>2019</td>\n",
       "      <td>Donald Trump</td>\n",
       "      <td>Republican</td>\n",
       "      <td>Madam Speaker, Mr. Vice President, Members of ...</td>\n",
       "      <td>madam speaker, mr. vice president, members of ...</td>\n",
       "      <td>[madam, speaker, mr, vice, president, members,...</td>\n",
       "      <td>0.114962</td>\n",
       "      <td>0.449762</td>\n",
       "    </tr>\n",
       "    <tr>\n",
       "      <th>119</th>\n",
       "      <td>2020</td>\n",
       "      <td>Donald Trump</td>\n",
       "      <td>Republican</td>\n",
       "      <td>Madam Speaker, Mr. Vice President, Members of ...</td>\n",
       "      <td>madam speaker, mr. vice president, members of ...</td>\n",
       "      <td>[madam, speaker, mr, vice, president, members,...</td>\n",
       "      <td>0.137910</td>\n",
       "      <td>0.452048</td>\n",
       "    </tr>\n",
       "    <tr>\n",
       "      <th>120</th>\n",
       "      <td>2021</td>\n",
       "      <td>Joe Biden</td>\n",
       "      <td>Democrat</td>\n",
       "      <td>9:06 P.M. EDT\\nTHE PRESIDENT:  Thank you.  (Ap...</td>\n",
       "      <td>9:06 p.m. edtthe president:  thank you.  (appl...</td>\n",
       "      <td>[pm, edt, president, thank, applause, thank, t...</td>\n",
       "      <td>0.123282</td>\n",
       "      <td>0.386723</td>\n",
       "    </tr>\n",
       "  </tbody>\n",
       "</table>\n",
       "<p>121 rows × 8 columns</p>\n",
       "</div>"
      ],
      "text/plain": [
       "     year           President       Party  \\\n",
       "0    1900    William McKinley  Republican   \n",
       "1    1901  Theodore Roosevelt  Republican   \n",
       "2    1902  Theodore Roosevelt  Republican   \n",
       "3    1903  Theodore Roosevelt  Republican   \n",
       "4    1904  Theodore Roosevelt  Republican   \n",
       "..    ...                 ...         ...   \n",
       "116  2017        Donald Trump  Republican   \n",
       "117  2018        Donald Trump  Republican   \n",
       "118  2019        Donald Trump  Republican   \n",
       "119  2020        Donald Trump  Republican   \n",
       "120  2021           Joe Biden    Democrat   \n",
       "\n",
       "                                                speech  \\\n",
       "0    To the Senate and House of Representatives: \\n...   \n",
       "1    To the Senate and House of Representatives: \\n...   \n",
       "2    To the Senate and House of Representatives: \\n...   \n",
       "3    To the Senate and House of Representatives: \\n...   \n",
       "4    To the Senate and House of Representatives: \\n...   \n",
       "..                                                 ...   \n",
       "116  Mr. Speaker, Mr. Vice President, Members of Co...   \n",
       "117  Mr. Speaker, Mr. Vice President, Members of Co...   \n",
       "118  Madam Speaker, Mr. Vice President, Members of ...   \n",
       "119  Madam Speaker, Mr. Vice President, Members of ...   \n",
       "120  9:06 P.M. EDT\\nTHE PRESIDENT:  Thank you.  (Ap...   \n",
       "\n",
       "                                           first_clean  \\\n",
       "0    to the senate and house of representatives: at...   \n",
       "1    to the senate and house of representatives: th...   \n",
       "2    to the senate and house of representatives: we...   \n",
       "3    to the senate and house of representatives: th...   \n",
       "4    to the senate and house of representatives: th...   \n",
       "..                                                 ...   \n",
       "116  mr. speaker, mr. vice president, members of co...   \n",
       "117  mr. speaker, mr. vice president, members of co...   \n",
       "118  madam speaker, mr. vice president, members of ...   \n",
       "119  madam speaker, mr. vice president, members of ...   \n",
       "120  9:06 p.m. edtthe president:  thank you.  (appl...   \n",
       "\n",
       "                                 first_clean_tokenized  Polarity  Subjectivity  \n",
       "0    [senate, house, representatives, outgoing, old...  0.115256      0.404176  \n",
       "1    [senate, house, representatives, congress, ass...  0.139217      0.471688  \n",
       "2    [senate, house, representatives, still, contin...  0.120273      0.497860  \n",
       "3    [senate, house, representatives, country, cong...  0.119628      0.456306  \n",
       "4    [senate, house, representatives, nation, conti...  0.137607      0.500679  \n",
       "..                                                 ...       ...           ...  \n",
       "116  [mr, speaker, mr, vice, president, members, co...  0.146113      0.450257  \n",
       "117  [mr, speaker, mr, vice, president, members, co...  0.113485      0.485158  \n",
       "118  [madam, speaker, mr, vice, president, members,...  0.114962      0.449762  \n",
       "119  [madam, speaker, mr, vice, president, members,...  0.137910      0.452048  \n",
       "120  [pm, edt, president, thank, applause, thank, t...  0.123282      0.386723  \n",
       "\n",
       "[121 rows x 8 columns]"
      ]
     },
     "execution_count": 34,
     "metadata": {},
     "output_type": "execute_result"
    }
   ],
   "source": [
    "#Sentiment analysis on Polarity and Subjectivity for all speeches:\n",
    "def sentiment(text):\n",
    "    try:\n",
    "        return TextBlob(text).sentiment\n",
    "    except:\n",
    "        return None\n",
    "    \n",
    "df_first_clean['Polarity'] = df_first_clean['first_clean'].apply(sentiment).apply(lambda x: x[0])\n",
    "df_first_clean['Subjectivity'] = df_first_clean['first_clean'].apply(sentiment).apply(lambda x: x[1])\n",
    "\n",
    "df_first_clean.to_pickle('pickled_data/data_first_clean_sentiment.pkl')\n",
    "\n",
    "df_first_clean"
   ]
  },
  {
   "cell_type": "markdown",
   "metadata": {},
   "source": [
    "### Sentiment analysis based on economic growth\n"
   ]
  },
  {
   "cell_type": "code",
   "execution_count": null,
   "metadata": {},
   "outputs": [],
   "source": [
    "#Selected years of financial crisis or growth:\n",
    "financial_crisis = [1930, 1931, 1932, 1986, 1987, 1988, 2008, 2009, 2010]\n",
    "financial_growth = [1926, 1927, 1928, 1992, 1993, 1994, 2005, 2006, 2007]"
   ]
  },
  {
   "cell_type": "markdown",
   "metadata": {},
   "source": [
    "\n",
    "\n",
    "## Word frequency "
   ]
  },
  {
   "cell_type": "markdown",
   "metadata": {},
   "source": [
    "### Before lemmatization"
   ]
  },
  {
   "cell_type": "code",
   "execution_count": 98,
   "metadata": {},
   "outputs": [],
   "source": [
    "#Masks to filter on democrats and republicans\n",
    "mask_democrats = (df_first_clean['Party'] == 'Democrat')\n",
    "mask_republicans = (df_first_clean['Party'] == 'Republican')\n",
    "\n",
    "#DEMOCRATS:\n",
    "#Filter dataframe on democrats:\n",
    "df_first_clean_democrats = df_first_clean[mask_democrats]\n",
    "#Takes 'first_clean_tokenized' column and converts to list:\n",
    "tokenized_speeches_democrats = df_first_clean_democrats['first_clean_tokenized'].tolist()\n",
    "#Combines list of lists into one list:\n",
    "tokenized_speeches_democrats = list(itertools.chain.from_iterable(tokenized_speeches_democrats))\n",
    "\n",
    "#Republicans:\n",
    "#Filter dataframe on republicans:\n",
    "df_first_clean_republicans = df_first_clean[mask_republicans]\n",
    "#Takes 'first_clean_tokenized' column and converts to list:\n",
    "tokenized_speeches_republicans = df_first_clean_republicans['first_clean_tokenized'].tolist()\n",
    "#Combines list of lists into one list:\n",
    "tokenized_speeches_republicans = list(itertools.chain.from_iterable(tokenized_speeches_republicans))"
   ]
  },
  {
   "cell_type": "code",
   "execution_count": 109,
   "metadata": {},
   "outputs": [
    {
     "data": {
      "image/png": "[encoded data removed]",
      "text/plain": [
       "<Figure size 432x288 with 1 Axes>"
      ]
     },
     "metadata": {
      "needs_background": "light"
     },
     "output_type": "display_data"
    },
    {
     "data": {
      "text/plain": [
       "[('year', 1558),\n",
       " ('people', 1212),\n",
       " ('american', 1166),\n",
       " ('must', 1158),\n",
       " ('nation', 1079),\n",
       " ('world', 991),\n",
       " ('new', 928),\n",
       " ('u', 881),\n",
       " ('government', 827),\n",
       " ('congress', 813),\n",
       " ('war', 759),\n",
       " ('america', 731),\n",
       " ('work', 677),\n",
       " ('state', 663),\n",
       " ('time', 662),\n",
       " ('country', 661),\n",
       " ('make', 653),\n",
       " ('one', 634),\n",
       " ('every', 632),\n",
       " ('need', 583)]"
      ]
     },
     "execution_count": 109,
     "metadata": {},
     "output_type": "execute_result"
    }
   ],
   "source": [
    "#Checks word freq in all democrat speeches:\n",
    "freqDist_democrats = FreqDist(tokenized_speeches_democrats)\n",
    "\n",
    "freqDist_democrats.plot(20, title='Democrats')\n",
    "freqDist_democrats.most_common(20)"
   ]
  },
  {
   "cell_type": "code",
   "execution_count": 100,
   "metadata": {},
   "outputs": [
    {
     "data": {
      "image/png": "[encoded data removed]",
      "text/plain": [
       "<Figure size 432x288 with 1 Axes>"
      ]
     },
     "metadata": {
      "needs_background": "light"
     },
     "output_type": "display_data"
    },
    {
     "data": {
      "text/plain": [
       "[('government', 2007),\n",
       " ('congress', 1477),\n",
       " ('must', 1381),\n",
       " ('people', 1341),\n",
       " ('states', 1262),\n",
       " ('american', 1150),\n",
       " ('would', 1140),\n",
       " ('great', 1045),\n",
       " ('one', 1016),\n",
       " ('year', 1008),\n",
       " ('world', 985),\n",
       " ('new', 984),\n",
       " ('country', 984),\n",
       " ('united', 981),\n",
       " ('america', 961),\n",
       " ('made', 946),\n",
       " ('upon', 936),\n",
       " ('us', 892),\n",
       " ('law', 875),\n",
       " ('years', 867)]"
      ]
     },
     "execution_count": 100,
     "metadata": {},
     "output_type": "execute_result"
    }
   ],
   "source": [
    "#Checks word freq in all republican speeches:\n",
    "freqDist_republicans = FreqDist(tokenized_speeches_republicans)\n",
    "\n",
    "freqDist_republicans.plot(20, title='Republicans')\n",
    "freqDist_republicans.most_common(20)"
   ]
  },
  {
   "cell_type": "markdown",
   "metadata": {},
   "source": [
    "### After lemmatization"
   ]
  },
  {
   "cell_type": "code",
   "execution_count": 104,
   "metadata": {},
   "outputs": [],
   "source": [
    "#Masks to filter on democrats and republicans\n",
    "mask_democrats = (df_second_clean['Party'] == 'Democrat')\n",
    "mask_republicans = (df_second_clean['Party'] == 'Republican')\n",
    "\n",
    "#DEMOCRATS:\n",
    "#Filter dataframe on democrats:\n",
    "df_second_clean_democrats = df_second_clean[mask_democrats]\n",
    "#Takes 'second_clean_lemmatized' column and converts to list:\n",
    "lemmatized_speeches_democrats = df_second_clean_democrats['second_clean_lemmatized'].tolist()\n",
    "#Combines list of lists into one list:\n",
    "lemmatized_speeches_democrats = list(itertools.chain.from_iterable(lemmatized_speeches_democrats))\n",
    "\n",
    "#Republicans:\n",
    "#Filter dataframe on republicans:\n",
    "df_second_clean_republicans = df_second_clean[mask_republicans]\n",
    "#Takes 'second_clean_lemmatized' column and converts to list:\n",
    "lemmatized_speeches_republicans = df_second_clean_republicans['second_clean_lemmatized'].tolist()\n",
    "#Combines list of lists into one list:\n",
    "lemmatized_speeches_republicans = list(itertools.chain.from_iterable(lemmatized_speeches_republicans))"
   ]
  },
  {
   "cell_type": "code",
   "execution_count": 107,
   "metadata": {},
   "outputs": [
    {
     "data": {
      "image/png": "[encoded data removed]",
      "text/plain": [
       "<Figure size 432x288 with 1 Axes>"
      ]
     },
     "metadata": {
      "needs_background": "light"
     },
     "output_type": "display_data"
    },
    {
     "data": {
      "text/plain": [
       "[('year', 1558),\n",
       " ('people', 1212),\n",
       " ('american', 1166),\n",
       " ('must', 1158),\n",
       " ('nation', 1079),\n",
       " ('world', 991),\n",
       " ('new', 928),\n",
       " ('u', 881),\n",
       " ('government', 827),\n",
       " ('congress', 813),\n",
       " ('war', 759),\n",
       " ('america', 731),\n",
       " ('work', 677),\n",
       " ('state', 663),\n",
       " ('time', 662),\n",
       " ('country', 661),\n",
       " ('make', 653),\n",
       " ('one', 634),\n",
       " ('every', 632),\n",
       " ('need', 583)]"
      ]
     },
     "execution_count": 107,
     "metadata": {},
     "output_type": "execute_result"
    }
   ],
   "source": [
    "#Checks word freq in all democrat speeches:\n",
    "freqDist_democrats = FreqDist(lemmatized_speeches_democrats)\n",
    "\n",
    "freqDist_democrats.plot(20, title='Democrats')\n",
    "freqDist_democrats.most_common(20)"
   ]
  },
  {
   "cell_type": "code",
   "execution_count": 106,
   "metadata": {},
   "outputs": [
    {
     "data": {
      "image/png": "[encoded data removed]",
      "text/plain": [
       "<Figure size 432x288 with 1 Axes>"
      ]
     },
     "metadata": {
      "needs_background": "light"
     },
     "output_type": "display_data"
    },
    {
     "data": {
      "text/plain": [
       "[('government', 2230),\n",
       " ('year', 1875),\n",
       " ('state', 1827),\n",
       " ('american', 1529),\n",
       " ('congress', 1481),\n",
       " ('people', 1421),\n",
       " ('must', 1381),\n",
       " ('nation', 1354),\n",
       " ('country', 1271),\n",
       " ('law', 1208),\n",
       " ('would', 1140),\n",
       " ('great', 1045),\n",
       " ('one', 1041),\n",
       " ('time', 1010),\n",
       " ('world', 986),\n",
       " ('new', 984),\n",
       " ('united', 981),\n",
       " ('america', 971),\n",
       " ('made', 946),\n",
       " ('upon', 936)]"
      ]
     },
     "execution_count": 106,
     "metadata": {},
     "output_type": "execute_result"
    }
   ],
   "source": [
    "#Checks word freq in all republican speeches:\n",
    "freqDist_republicans = FreqDist(lemmatized_speeches_republicans)\n",
    "\n",
    "freqDist_republicans.plot(20, title='Republicans')\n",
    "freqDist_republicans.most_common(20)"
   ]
  },
  {
   "cell_type": "code",
   "execution_count": null,
   "metadata": {},
   "outputs": [],
   "source": []
  }
 ],
 "metadata": {
  "kernelspec": {
   "display_name": "Python 3",
   "language": "python",
   "name": "python3"
  },
  "language_info": {
   "codemirror_mode": {
    "name": "ipython",
    "version": 3
   },
   "file_extension": ".py",
   "mimetype": "text/x-python",
   "name": "python",
   "nbconvert_exporter": "python",
   "pygments_lexer": "ipython3",
   "version": "3.7.6"
  }
 },
 "nbformat": 4,
 "nbformat_minor": 4
}
