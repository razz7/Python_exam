{
 "cells": [
  {
   "cell_type": "code",
   "execution_count": null,
   "metadata": {},
   "outputs": [],
   "source": [
    "import pandas as pd\n",
    "import os\n",
    "import nltk\n",
    "from nltk.tokenize import word_tokenize\n",
    "from nltk.corpus import stopwords\n",
    "from modules.cleaners import clean_text\n",
    "import string\n",
    "import numpy as np\n",
    "import matplotlib.pyplot as plt\n",
    "pd.options.mode.chained_assignment = None\n",
    "\n",
    "from nltk.stem import WordNetLemmatizer\n"
   ]
  },
  {
   "cell_type": "code",
   "execution_count": null,
   "metadata": {},
   "outputs": [],
   "source": [
    "data_only_speech = pd.read_pickle('clean_speech.pkl')\n",
    "\n",
    "df_after_first_clean = pd.read_pickle('speech_data_raw.pkl')\n",
    "\n",
    "df_after_first_clean.drop(['speech'], axis=1)\n",
    "\n",
    "df_after_first_clean['speech'] = data_only_speech.speech\n",
    "\n",
    "\n",
    "\n",
    "\n",
    "#saving the new dataframe with the cleaned speaches and the presidents. \n",
    "\n",
    "df_after_first_clean.to_pickle('tokenized_dataframe.pkl')\n",
    "df_after_first_clean\n"
   ]
  },
  {
   "cell_type": "code",
   "execution_count": null,
   "metadata": {
    "scrolled": true
   },
   "outputs": [],
   "source": [
    "pickle_test = pd.read_pickle('speech_data_raw.pkl')\n",
    "\n",
    "pickle_test.head()"
   ]
  },
  {
   "cell_type": "code",
   "execution_count": null,
   "metadata": {},
   "outputs": [],
   "source": [
    "from sklearn.feature_extraction.text import CountVectorizer\n",
    "\n",
    "#Dont know if we need this now.\n",
    "\"\"\"\n",
    "\n",
    "#Creating Document term matrix\n",
    "cv = CountVectorizer(stop_words='english')\n",
    "data_cv = cv.fit_transform(df_after_first_clean.speech.astype(str))\n",
    "data_dtm = pd.DataFrame(data_cv.toarray(), columns=cv.get_feature_names())\n",
    "data_dtm.index = df_after_first_clean.President\n",
    "\n",
    "#data_dtm\n",
    "\n",
    "\"\"\""
   ]
  },
  {
   "cell_type": "code",
   "execution_count": null,
   "metadata": {},
   "outputs": [],
   "source": [
    "\n",
    "#saving the document term matrix to use it in the sentiment file\n",
    "#data_dtm.to_pickle(\"doc_term_matrix.pkl\")"
   ]
  },
  {
   "cell_type": "code",
   "execution_count": null,
   "metadata": {
    "scrolled": true
   },
   "outputs": [],
   "source": [
    "#Loading the Document term matrix \n",
    "#data = pd.read_pickle('doc_term_matrix.pkl')\n",
    "#data = data.transpose()\n"
   ]
  },
  {
   "cell_type": "code",
   "execution_count": null,
   "metadata": {},
   "outputs": [],
   "source": [
    "\n"
   ]
  },
  {
   "cell_type": "code",
   "execution_count": null,
   "metadata": {},
   "outputs": [],
   "source": [
    "seeData = df_after_first_clean['speech']\n",
    "seeData"
   ]
  },
  {
   "cell_type": "code",
   "execution_count": null,
   "metadata": {
    "scrolled": true
   },
   "outputs": [],
   "source": [
    "#New word count list. \n",
    "\n",
    "\n",
    "from nltk import FreqDist\n",
    "\n",
    "wordlist = []\n",
    "\n",
    "#Checks word freq in all speeches\n",
    "for speech in df_after_first_clean['speech']:\n",
    "    freqDist = FreqDist(speech)\n",
    "    wordlist.append(freqDist)\n",
    "\n",
    "\n",
    "#plots and print top 20 words for all speeches \n",
    "year = 1900\n",
    "for i in range(120):\n",
    "    year = year ++ 1\n",
    "    print(\"speech year: \" + str(year))\n",
    "    wordlist[i].plot(20, title='Speech ' + str(year))\n",
    "    wordlist[i].pprint(maxlen=20)\n"
   ]
  },
  {
   "cell_type": "code",
   "execution_count": null,
   "metadata": {},
   "outputs": [],
   "source": []
  }
 ],
 "metadata": {
  "kernelspec": {
   "display_name": "Python 3",
   "language": "python",
   "name": "python3"
  },
  "language_info": {
   "codemirror_mode": {
    "name": "ipython",
    "version": 3
   },
   "file_extension": ".py",
   "mimetype": "text/x-python",
   "name": "python",
   "nbconvert_exporter": "python",
   "pygments_lexer": "ipython3",
   "version": "3.7.6"
  }
 },
 "nbformat": 4,
 "nbformat_minor": 4
}
