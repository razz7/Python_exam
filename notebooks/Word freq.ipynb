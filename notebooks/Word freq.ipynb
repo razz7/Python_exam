{
 "cells": [
  {
   "cell_type": "code",
   "execution_count": 2,
   "metadata": {},
   "outputs": [],
   "source": [
    "import pandas as pd\n",
    "import os\n",
    "import nltk\n",
    "from nltk.tokenize import word_tokenize\n",
    "from nltk.corpus import stopwords\n",
    "from modules.cleaners import clean_text\n",
    "import string\n",
    "import numpy as np\n",
    "import matplotlib.pyplot as plt\n",
    "pd.options.mode.chained_assignment = None\n",
    "\n",
    "from nltk.stem import WordNetLemmatizer\n"
   ]
  },
  {
   "cell_type": "code",
   "execution_count": 3,
   "metadata": {},
   "outputs": [
    {
     "data": {
      "text/html": [
       "<div>\n",
       "<style scoped>\n",
       "    .dataframe tbody tr th:only-of-type {\n",
       "        vertical-align: middle;\n",
       "    }\n",
       "\n",
       "    .dataframe tbody tr th {\n",
       "        vertical-align: top;\n",
       "    }\n",
       "\n",
       "    .dataframe thead th {\n",
       "        text-align: right;\n",
       "    }\n",
       "</style>\n",
       "<table border=\"1\" class=\"dataframe\">\n",
       "  <thead>\n",
       "    <tr style=\"text-align: right;\">\n",
       "      <th></th>\n",
       "      <th>year</th>\n",
       "      <th>President</th>\n",
       "      <th>Party</th>\n",
       "      <th>speech</th>\n",
       "    </tr>\n",
       "  </thead>\n",
       "  <tbody>\n",
       "    <tr>\n",
       "      <th>0</th>\n",
       "      <td>1900</td>\n",
       "      <td>William McKinley</td>\n",
       "      <td>Republican</td>\n",
       "      <td>[senate, house, representatives, outgoing, old...</td>\n",
       "    </tr>\n",
       "    <tr>\n",
       "      <th>1</th>\n",
       "      <td>1901</td>\n",
       "      <td>Theodore Roosevelt</td>\n",
       "      <td>Republican</td>\n",
       "      <td>[senate, house, representatives, congress, ass...</td>\n",
       "    </tr>\n",
       "    <tr>\n",
       "      <th>2</th>\n",
       "      <td>1902</td>\n",
       "      <td>Theodore Roosevelt</td>\n",
       "      <td>Republican</td>\n",
       "      <td>[senate, house, representatives, still, contin...</td>\n",
       "    </tr>\n",
       "    <tr>\n",
       "      <th>3</th>\n",
       "      <td>1903</td>\n",
       "      <td>Theodore Roosevelt</td>\n",
       "      <td>Republican</td>\n",
       "      <td>[senate, house, representatives, country, cong...</td>\n",
       "    </tr>\n",
       "    <tr>\n",
       "      <th>4</th>\n",
       "      <td>1904</td>\n",
       "      <td>Theodore Roosevelt</td>\n",
       "      <td>Republican</td>\n",
       "      <td>[senate, house, representatives, nation, conti...</td>\n",
       "    </tr>\n",
       "    <tr>\n",
       "      <th>...</th>\n",
       "      <td>...</td>\n",
       "      <td>...</td>\n",
       "      <td>...</td>\n",
       "      <td>...</td>\n",
       "    </tr>\n",
       "    <tr>\n",
       "      <th>116</th>\n",
       "      <td>2017</td>\n",
       "      <td>Donald Trump</td>\n",
       "      <td>Republican</td>\n",
       "      <td>[mr, speaker, mr, vice, president, members, co...</td>\n",
       "    </tr>\n",
       "    <tr>\n",
       "      <th>117</th>\n",
       "      <td>2018</td>\n",
       "      <td>Donald Trump</td>\n",
       "      <td>Republican</td>\n",
       "      <td>[mr, speaker, mr, vice, president, members, co...</td>\n",
       "    </tr>\n",
       "    <tr>\n",
       "      <th>118</th>\n",
       "      <td>2019</td>\n",
       "      <td>Donald Trump</td>\n",
       "      <td>Republican</td>\n",
       "      <td>[madam, speaker, mr, vice, president, members,...</td>\n",
       "    </tr>\n",
       "    <tr>\n",
       "      <th>119</th>\n",
       "      <td>2020</td>\n",
       "      <td>Donald Trump</td>\n",
       "      <td>Republican</td>\n",
       "      <td>[madam, speaker, mr, vice, president, members,...</td>\n",
       "    </tr>\n",
       "    <tr>\n",
       "      <th>120</th>\n",
       "      <td>2021</td>\n",
       "      <td>Joe Biden</td>\n",
       "      <td>Democrat</td>\n",
       "      <td>[pm, edt, president, thank, applause, thank, t...</td>\n",
       "    </tr>\n",
       "  </tbody>\n",
       "</table>\n",
       "<p>121 rows × 4 columns</p>\n",
       "</div>"
      ],
      "text/plain": [
       "     year           President       Party  \\\n",
       "0    1900    William McKinley  Republican   \n",
       "1    1901  Theodore Roosevelt  Republican   \n",
       "2    1902  Theodore Roosevelt  Republican   \n",
       "3    1903  Theodore Roosevelt  Republican   \n",
       "4    1904  Theodore Roosevelt  Republican   \n",
       "..    ...                 ...         ...   \n",
       "116  2017        Donald Trump  Republican   \n",
       "117  2018        Donald Trump  Republican   \n",
       "118  2019        Donald Trump  Republican   \n",
       "119  2020        Donald Trump  Republican   \n",
       "120  2021           Joe Biden    Democrat   \n",
       "\n",
       "                                                speech  \n",
       "0    [senate, house, representatives, outgoing, old...  \n",
       "1    [senate, house, representatives, congress, ass...  \n",
       "2    [senate, house, representatives, still, contin...  \n",
       "3    [senate, house, representatives, country, cong...  \n",
       "4    [senate, house, representatives, nation, conti...  \n",
       "..                                                 ...  \n",
       "116  [mr, speaker, mr, vice, president, members, co...  \n",
       "117  [mr, speaker, mr, vice, president, members, co...  \n",
       "118  [madam, speaker, mr, vice, president, members,...  \n",
       "119  [madam, speaker, mr, vice, president, members,...  \n",
       "120  [pm, edt, president, thank, applause, thank, t...  \n",
       "\n",
       "[121 rows x 4 columns]"
      ]
     },
     "execution_count": 3,
     "metadata": {},
     "output_type": "execute_result"
    }
   ],
   "source": [
    "data_only_speech = pd.read_pickle('clean_speech.pkl')\n",
    "\n",
    "df_after_first_clean = pd.read_pickle('speech_data_raw.pkl')\n",
    "\n",
    "df_after_first_clean.drop(['speech'], axis=1)\n",
    "\n",
    "df_after_first_clean['speech'] = data_only_speech.speech\n",
    "\n",
    "\n",
    "\n",
    "\n",
    "#saving the new dataframe with the cleaned speaches and the presidents. \n",
    "\n",
    "df_after_first_clean.to_pickle('tokenized_dataframe.pkl')\n",
    "df_after_first_clean\n"
   ]
  },
  {
   "cell_type": "code",
   "execution_count": 4,
   "metadata": {
    "scrolled": true
   },
   "outputs": [
    {
     "data": {
      "text/html": [
       "<div>\n",
       "<style scoped>\n",
       "    .dataframe tbody tr th:only-of-type {\n",
       "        vertical-align: middle;\n",
       "    }\n",
       "\n",
       "    .dataframe tbody tr th {\n",
       "        vertical-align: top;\n",
       "    }\n",
       "\n",
       "    .dataframe thead th {\n",
       "        text-align: right;\n",
       "    }\n",
       "</style>\n",
       "<table border=\"1\" class=\"dataframe\">\n",
       "  <thead>\n",
       "    <tr style=\"text-align: right;\">\n",
       "      <th></th>\n",
       "      <th>year</th>\n",
       "      <th>President</th>\n",
       "      <th>Party</th>\n",
       "      <th>speech</th>\n",
       "    </tr>\n",
       "  </thead>\n",
       "  <tbody>\n",
       "    <tr>\n",
       "      <th>0</th>\n",
       "      <td>1900</td>\n",
       "      <td>William McKinley</td>\n",
       "      <td>Republican</td>\n",
       "      <td>To the Senate and House of Representatives: \\n...</td>\n",
       "    </tr>\n",
       "    <tr>\n",
       "      <th>1</th>\n",
       "      <td>1901</td>\n",
       "      <td>Theodore Roosevelt</td>\n",
       "      <td>Republican</td>\n",
       "      <td>To the Senate and House of Representatives: \\n...</td>\n",
       "    </tr>\n",
       "    <tr>\n",
       "      <th>2</th>\n",
       "      <td>1902</td>\n",
       "      <td>Theodore Roosevelt</td>\n",
       "      <td>Republican</td>\n",
       "      <td>To the Senate and House of Representatives: \\n...</td>\n",
       "    </tr>\n",
       "    <tr>\n",
       "      <th>3</th>\n",
       "      <td>1903</td>\n",
       "      <td>Theodore Roosevelt</td>\n",
       "      <td>Republican</td>\n",
       "      <td>To the Senate and House of Representatives: \\n...</td>\n",
       "    </tr>\n",
       "    <tr>\n",
       "      <th>4</th>\n",
       "      <td>1904</td>\n",
       "      <td>Theodore Roosevelt</td>\n",
       "      <td>Republican</td>\n",
       "      <td>To the Senate and House of Representatives: \\n...</td>\n",
       "    </tr>\n",
       "  </tbody>\n",
       "</table>\n",
       "</div>"
      ],
      "text/plain": [
       "   year           President       Party  \\\n",
       "0  1900    William McKinley  Republican   \n",
       "1  1901  Theodore Roosevelt  Republican   \n",
       "2  1902  Theodore Roosevelt  Republican   \n",
       "3  1903  Theodore Roosevelt  Republican   \n",
       "4  1904  Theodore Roosevelt  Republican   \n",
       "\n",
       "                                              speech  \n",
       "0  To the Senate and House of Representatives: \\n...  \n",
       "1  To the Senate and House of Representatives: \\n...  \n",
       "2  To the Senate and House of Representatives: \\n...  \n",
       "3  To the Senate and House of Representatives: \\n...  \n",
       "4  To the Senate and House of Representatives: \\n...  "
      ]
     },
     "execution_count": 4,
     "metadata": {},
     "output_type": "execute_result"
    }
   ],
   "source": [
    "pickle_test = pd.read_pickle('speech_data_raw.pkl')\n",
    "\n",
    "pickle_test.head()"
   ]
  },
  {
   "cell_type": "code",
   "execution_count": 5,
   "metadata": {},
   "outputs": [
    {
     "data": {
      "text/plain": [
       "\"\\n\\n#Creating Document term matrix\\ncv = CountVectorizer(stop_words='english')\\ndata_cv = cv.fit_transform(df_after_first_clean.speech.astype(str))\\ndata_dtm = pd.DataFrame(data_cv.toarray(), columns=cv.get_feature_names())\\ndata_dtm.index = df_after_first_clean.President\\n\\n#data_dtm\\n\\n\""
      ]
     },
     "execution_count": 5,
     "metadata": {},
     "output_type": "execute_result"
    }
   ],
   "source": [
    "from sklearn.feature_extraction.text import CountVectorizer\n",
    "\n",
    "#Dont know if we need this now.\n",
    "\"\"\"\n",
    "\n",
    "#Creating Document term matrix\n",
    "cv = CountVectorizer(stop_words='english')\n",
    "data_cv = cv.fit_transform(df_after_first_clean.speech.astype(str))\n",
    "data_dtm = pd.DataFrame(data_cv.toarray(), columns=cv.get_feature_names())\n",
    "data_dtm.index = df_after_first_clean.President\n",
    "\n",
    "#data_dtm\n",
    "\n",
    "\"\"\""
   ]
  },
  {
   "cell_type": "code",
   "execution_count": 6,
   "metadata": {},
   "outputs": [],
   "source": [
    "\n",
    "#saving the document term matrix to use it in the sentiment file\n",
    "#data_dtm.to_pickle(\"doc_term_matrix.pkl\")"
   ]
  },
  {
   "cell_type": "code",
   "execution_count": 7,
   "metadata": {
    "scrolled": true
   },
   "outputs": [],
   "source": [
    "#Loading the Document term matrix \n",
    "#data = pd.read_pickle('doc_term_matrix.pkl')\n",
    "#data = data.transpose()\n"
   ]
  },
  {
   "cell_type": "code",
   "execution_count": null,
   "metadata": {},
   "outputs": [],
   "source": [
    "\n"
   ]
  },
  {
   "cell_type": "code",
   "execution_count": 8,
   "metadata": {},
   "outputs": [
    {
     "data": {
      "text/plain": [
       "0      [senate, house, representatives, outgoing, old...\n",
       "1      [senate, house, representatives, congress, ass...\n",
       "2      [senate, house, representatives, still, contin...\n",
       "3      [senate, house, representatives, country, cong...\n",
       "4      [senate, house, representatives, nation, conti...\n",
       "                             ...                        \n",
       "116    [mr, speaker, mr, vice, president, members, co...\n",
       "117    [mr, speaker, mr, vice, president, members, co...\n",
       "118    [madam, speaker, mr, vice, president, members,...\n",
       "119    [madam, speaker, mr, vice, president, members,...\n",
       "120    [pm, edt, president, thank, applause, thank, t...\n",
       "Name: speech, Length: 121, dtype: object"
      ]
     },
     "execution_count": 8,
     "metadata": {},
     "output_type": "execute_result"
    }
   ],
   "source": [
    "seeData = df_after_first_clean['speech']\n",
    "seeData"
   ]
  },
  {
   "cell_type": "code",
   "execution_count": 9,
   "metadata": {
    "scrolled": true
   },
   "outputs": [
    {
     "name": "stdout",
     "output_type": "stream",
     "text": [
      "FreqDist({'must': 38, 'budget': 26, 'america': 23, 'tax': 20, 'government': 19, 'nation': 15, 'care': 15, 'people': 15, 'social': 15, 'security': 15, 'money': 15, 'years': 15, 'one': 14, 'energy': 13, 'year': 13, 'percent': 13, 'health': 13, 'country': 12, 'work': 12, 'medicare': 12, ...})\n"
     ]
    }
   ],
   "source": [
    "#New word count list. \n",
    "\n",
    "\n",
    "from nltk import FreqDist\n",
    "\n",
    "wordlist = []\n",
    "\n",
    "#Checks word freq in all speeches\n",
    "for speech in df_after_first_clean['speech']:\n",
    "    freqDist = FreqDist(speech)\n",
    "    wordlist.append(freqDist)\n",
    "\n",
    "\n",
    "#plots and print top 20 words for all speeches \n",
    "year = 1900\n",
    "for i in range(120):\n",
    "    year = year ++ 1\n",
    "    print(\"speech year: \" + str(year))\n",
    "    wordlist[i].plot(20, title='Speech ' + str(year))\n",
    "    wordlist[i].pprint(maxlen=20)\n"
   ]
  },
  {
   "cell_type": "code",
   "execution_count": null,
   "metadata": {},
   "outputs": [],
   "source": []
  }
 ],
 "metadata": {
  "kernelspec": {
   "display_name": "Python 3",
   "language": "python",
   "name": "python3"
  },
  "language_info": {
   "codemirror_mode": {
    "name": "ipython",
    "version": 3
   },
   "file_extension": ".py",
   "mimetype": "text/x-python",
   "name": "python",
   "nbconvert_exporter": "python",
   "pygments_lexer": "ipython3",
   "version": "3.7.6"
  }
 },
 "nbformat": 4,
 "nbformat_minor": 4
}
